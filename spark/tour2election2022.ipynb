{
 "cells": [
  {
   "cell_type": "code",
   "execution_count": 33,
   "metadata": {},
   "outputs": [],
   "source": [
    "\n",
    "from pyspark.sql import SparkSession\n",
    "from pyspark.sql.functions import lit\n",
    "import pyspark.sql.functions as F\n",
    "import pyspark.sql.types as T\n",
    "import pandas as pd\n",
    "spark = SparkSession.builder.getOrCreate();\n"
   ]
  },
  {
   "cell_type": "code",
   "execution_count": 34,
   "metadata": {},
   "outputs": [],
   "source": [
    "import os\n",
    "os.environ['PYSPARK_SUBMIT_ARGS'] = '--packages org.apache.spark:spark-streaming-kafka-0-8_2.11:2.13.0,org.apache.spark:spark-sql-kafka-0-10_2.11:2.13.0 pyspark-shell' \n",
    "from ast import literal_eval\n",
    "\n"
   ]
  },
  {
   "cell_type": "code",
   "execution_count": 35,
   "metadata": {},
   "outputs": [],
   "source": [
    "# dfk = spark \\\n",
    "#   .readStream \\\n",
    "#   .format(\"kafka\") \\\n",
    "#   .option(\"kafka.bootstrap.servers\", \"localhost:9092\") \\\n",
    "#   .option(\"subscribe\", \"ValidatedRecords\") \\\n",
    "#   .option(\"startingOffsets\", \"earliest\") \\\n",
    "#   .load() \n",
    "\n",
    "\n",
    "#df.printSchema()\n",
    "  "
   ]
  },
  {
   "cell_type": "code",
   "execution_count": 36,
   "metadata": {},
   "outputs": [
    {
     "data": {
      "text/plain": [
       "' appName = \"Kafka Examples\"\\nmaster = \"local\"\\n\\nspark = SparkSession.builder     .master(master)     .appName(appName)     .getOrCreate()\\n\\nkafka_servers = \"localhost:9092\"\\n\\ndfk = spark     .read     .format(\"kafka\")     .option(\"kafka.bootstrap.servers\", kafka_servers)     .option(\"subscribe\", \"ValidatedRecords\")     .load '"
      ]
     },
     "execution_count": 36,
     "metadata": {},
     "output_type": "execute_result"
    }
   ],
   "source": [
    "\"\"\" appName = \"Kafka Examples\"\n",
    "master = \"local\"\n",
    "\n",
    "spark = SparkSession.builder \\\n",
    "    .master(master) \\\n",
    "    .appName(appName) \\\n",
    "    .getOrCreate()\n",
    "\n",
    "kafka_servers = \"localhost:9092\"\n",
    "\n",
    "dfk = spark \\\n",
    "    .read \\\n",
    "    .format(\"kafka\") \\\n",
    "    .option(\"kafka.bootstrap.servers\", kafka_servers) \\\n",
    "    .option(\"subscribe\", \"ValidatedRecords\") \\\n",
    "    .load \"\"\""
   ]
  },
  {
   "cell_type": "code",
   "execution_count": 37,
   "metadata": {},
   "outputs": [
    {
     "name": "stdout",
     "output_type": "stream",
     "text": [
      "+-------------------+----------------------+--------------------------+-----------------------------+------------------+---------------------+--------------+--------+-----------+---------+-------+---------+------+------------+------------+----+----------+----------+--------+---------+---------+---------+----+------+--------+----+----------+----------+----+----+------+------+----+-----+-----+\n",
      "|Code du département|Libellé du département|Code de la circonscription|Libellé de la circonscription|Code de la commune|Libellé de la commune|Code du b_vote|Inscrits|Abstentions|% Abs/Ins|Votants|% Vot/Ins|Blancs|% Blancs/Ins|% Blancs/Vot|Nuls|% Nuls/Ins|% Nuls/Vot|Exprimés|% Exp/Ins|% Exp/Vot|N°Panneau|Sexe|   Nom|  Prénom|Voix|% Voix/Ins|% Voix/Exp|_c28|_c29|  _c30|  _c31|_c32| _c33| _c34|\n",
      "+-------------------+----------------------+--------------------------+-----------------------------+------------------+---------------------+--------------+--------+-----------+---------+-------+---------+------+------------+------------+----+----------+----------+--------+---------+---------+---------+----+------+--------+----+----------+----------+----+----+------+------+----+-----+-----+\n",
      "|Code du département|  Libellé du départ...|      Code de la circon...|         Libellé de la cir...|Code de la commune| Libellé de la com...|Code du b.vote|Inscrits|Abstentions|% Abs/Ins|Votants|% Vot/Ins|Blancs|% Blancs/Ins|% Blancs/Vot|Nuls|% Nuls/Ins|% Nuls/Vot|Exprimés|% Exp/Ins|% Exp/Vot|N°Panneau|Sexe|   Nom|  Prénom|Voix|% Voix/Ins|% Voix/Exp|null|null|  null|  null|null| null| null|\n",
      "|                 01|                   Ain|                        04|         4ème circonscription|               001| L'Abergement-Clém...|          0001|     643|        146|    22,71|    497|    77,29|    42|        6,53|        8,45|   5|      0,78|      1,01|     450|    69,98|    90,54|        1|   M|MACRON|Emmanuel| 237|     36,86|     52,67|   2|   F|LE PEN|Marine| 213|33,13|47,33|\n",
      "|                 01|                   Ain|                        05|         5ème circonscription|               002| L'Abergement-de-V...|          0001|     213|         45|    21,13|    168|    78,87|    23|       10,80|       13,69|   3|      1,41|      1,79|     142|    66,67|    84,52|        1|   M|MACRON|Emmanuel|  94|     44,13|     66,20|   2|   F|LE PEN|Marine|  48|22,54|33,80|\n",
      "|                 01|                   Ain|                        05|         5ème circonscription|               004|    Ambérieu-en-Bugey|          0001|    1130|        322|    28,50|    808|    71,50|    71|        6,28|        8,79|  22|      1,95|      2,72|     715|    63,27|    88,49|        1|   M|MACRON|Emmanuel| 360|     31,86|     50,35|   2|   F|LE PEN|Marine| 355|31,42|49,65|\n",
      "|                 01|                   Ain|                        05|         5ème circonscription|               004|    Ambérieu-en-Bugey|          0002|    1129|        313|    27,72|    816|    72,28|    45|        3,99|        5,51|  18|      1,59|      2,21|     753|    66,70|    92,28|        1|   M|MACRON|Emmanuel| 426|     37,73|     56,57|   2|   F|LE PEN|Marine| 327|28,96|43,43|\n",
      "|                 01|                   Ain|                        05|         5ème circonscription|               004|    Ambérieu-en-Bugey|          0003|    1213|        303|    24,98|    910|    75,02|    87|        7,17|        9,56|  21|      1,73|      2,31|     802|    66,12|    88,13|        1|   M|MACRON|Emmanuel| 449|     37,02|     55,99|   2|   F|LE PEN|Marine| 353|29,10|44,01|\n",
      "|                 01|                   Ain|                        05|         5ème circonscription|               004|    Ambérieu-en-Bugey|          0004|     932|        270|    28,97|    662|    71,03|    55|        5,90|        8,31|  21|      2,25|      3,17|     586|    62,88|    88,52|        1|   M|MACRON|Emmanuel| 313|     33,58|     53,41|   2|   F|LE PEN|Marine| 273|29,29|46,59|\n",
      "|                 01|                   Ain|                        05|         5ème circonscription|               004|    Ambérieu-en-Bugey|          0005|    1046|        386|    36,90|    660|    63,10|    47|        4,49|        7,12|  23|      2,20|      3,48|     590|    56,41|    89,39|        1|   M|MACRON|Emmanuel| 306|     29,25|     51,86|   2|   F|LE PEN|Marine| 284|27,15|48,14|\n",
      "|                 01|                   Ain|                        05|         5ème circonscription|               004|    Ambérieu-en-Bugey|          0006|    1150|        318|    27,65|    832|    72,35|    46|        4,00|        5,53|  35|      3,04|      4,21|     751|    65,30|    90,26|        1|   M|MACRON|Emmanuel| 424|     36,87|     56,46|   2|   F|LE PEN|Marine| 327|28,43|43,54|\n",
      "|                 01|                   Ain|                        05|         5ème circonscription|               004|    Ambérieu-en-Bugey|          0007|    1034|        286|    27,66|    748|    72,34|    53|        5,13|        7,09|  10|      0,97|      1,34|     685|    66,25|    91,58|        1|   M|MACRON|Emmanuel| 373|     36,07|     54,45|   2|   F|LE PEN|Marine| 312|30,17|45,55|\n",
      "|                 01|                   Ain|                        05|         5ème circonscription|               004|    Ambérieu-en-Bugey|          0008|    1129|        250|    22,14|    879|    77,86|    57|        5,05|        6,48|  15|      1,33|      1,71|     807|    71,48|    91,81|        1|   M|MACRON|Emmanuel| 429|     38,00|     53,16|   2|   F|LE PEN|Marine| 378|33,48|46,84|\n",
      "|                 01|                   Ain|                        04|         4ème circonscription|               005|  Ambérieux-en-Dombes|          0001|    1282|        266|    20,75|   1016|    79,25|    47|        3,67|        4,63|  15|      1,17|      1,48|     954|    74,41|    93,90|        1|   M|MACRON|Emmanuel| 451|     35,18|     47,27|   2|   F|LE PEN|Marine| 503|39,24|52,73|\n",
      "|                 01|                   Ain|                        03|         3ème circonscription|               006|              Ambléon|          0001|     103|         19|    18,45|     84|    81,55|    12|       11,65|       14,29|   0|      0,00|      0,00|      72|    69,90|    85,71|        1|   M|MACRON|Emmanuel|  45|     43,69|     62,50|   2|   F|LE PEN|Marine|  27|26,21|37,50|\n",
      "|                 01|                   Ain|                        05|         5ème circonscription|               007|             Ambronay|          0001|    1140|        244|    21,40|    896|    78,60|    56|        4,91|        6,25|  17|      1,49|      1,90|     823|    72,19|    91,85|        1|   M|MACRON|Emmanuel| 442|     38,77|     53,71|   2|   F|LE PEN|Marine| 381|33,42|46,29|\n",
      "|                 01|                   Ain|                        05|         5ème circonscription|               007|             Ambronay|          0002|     892|        173|    19,39|    719|    80,61|    42|        4,71|        5,84|  13|      1,46|      1,81|     664|    74,44|    92,35|        1|   M|MACRON|Emmanuel| 283|     31,73|     42,62|   2|   F|LE PEN|Marine| 381|42,71|57,38|\n",
      "|                 01|                   Ain|                        02|         2ème circonscription|               008|             Ambutrix|          0001|     552|        100|    18,12|    452|    81,88|    37|        6,70|        8,19|   5|      0,91|      1,11|     410|    74,28|    90,71|        1|   M|MACRON|Emmanuel| 198|     35,87|     48,29|   2|   F|LE PEN|Marine| 212|38,41|51,71|\n",
      "|                 01|                   Ain|                        03|         3ème circonscription|               009|     Andert-et-Condon|          0001|     280|         73|    26,07|    207|    73,93|    22|        7,86|       10,63|   3|      1,07|      1,45|     182|    65,00|    87,92|        1|   M|MACRON|Emmanuel| 102|     36,43|     56,04|   2|   F|LE PEN|Marine|  80|28,57|43,96|\n",
      "|                 01|                   Ain|                        03|         3ème circonscription|               010|            Anglefort|          0001|     792|        185|    23,36|    607|    76,64|    31|        3,91|        5,11|   8|      1,01|      1,32|     568|    71,72|    93,57|        1|   M|MACRON|Emmanuel| 227|     28,66|     39,96|   2|   F|LE PEN|Marine| 341|43,06|60,04|\n",
      "|                 01|                   Ain|                        05|         5ème circonscription|               011|             Apremont|          0001|     289|         42|    14,53|    247|    85,47|    29|       10,03|       11,74|   4|      1,38|      1,62|     214|    74,05|    86,64|        1|   M|MACRON|Emmanuel| 101|     34,95|     47,20|   2|   F|LE PEN|Marine| 113|39,10|52,80|\n",
      "|                 01|                   Ain|                        05|         5ème circonscription|               012|                Aranc|          0001|     283|         76|    26,86|    207|    73,14|    28|        9,89|       13,53|   6|      2,12|      2,90|     173|    61,13|    83,57|        1|   M|MACRON|Emmanuel|  92|     32,51|     53,18|   2|   F|LE PEN|Marine|  81|28,62|46,82|\n",
      "+-------------------+----------------------+--------------------------+-----------------------------+------------------+---------------------+--------------+--------+-----------+---------+-------+---------+------+------------+------------+----+----------+----------+--------+---------+---------+---------+----+------+--------+----+----------+----------+----+----+------+------+----+-----+-----+\n",
      "only showing top 20 rows\n",
      "\n"
     ]
    }
   ],
   "source": [
    "filepath = \"/home/gildas/Bureau/ECE/data/2Tour2022.csv\"\n",
    "tab = []\n",
    "df = pd.read_csv(filepath,encoding=\"latin1\", sep=\";\")\n",
    "tab = df.columns.to_list()\n",
    "\n",
    "names = []\n",
    "i = 28\n",
    "x = 28\n",
    "while x < 35 : \n",
    "    names.append(\"_c\"+str(i))\n",
    "    i = i + 1\n",
    "    x = x + 1\n",
    "\n",
    "schematemp = tab + names\n",
    "schema = T.StructType()\n",
    "for x in schematemp: \n",
    "    schema.add(x, T.StringType(), True)\n",
    "\n",
    "df = spark.read.option(\"encoding\", \"latin1\").schema(schema).options(delimiter=\";\").csv(filepath)\n",
    "df = df.withColumnRenamed(\"Code du b.vote\",\"Code du b_vote\")\n",
    "df.show()\n",
    "\n"
   ]
  },
  {
   "cell_type": "code",
   "execution_count": 38,
   "metadata": {},
   "outputs": [
    {
     "name": "stdout",
     "output_type": "stream",
     "text": [
      "+-------------------+--------------------------+------------------+--------------+--------+-----------+-------+------+----+--------+---------+----+------+--------+----+------+------+----+\n",
      "|Code du département|Code de la circonscription|Code de la commune|Code du b_vote|Inscrits|Abstentions|Votants|Blancs|Nuls|Exprimés|N°Panneau|Sexe|   Nom|  Prénom|Voix|  _c30|  _c31|_c32|\n",
      "+-------------------+--------------------------+------------------+--------------+--------+-----------+-------+------+----+--------+---------+----+------+--------+----+------+------+----+\n",
      "|Code du département|      Code de la circon...|Code de la commune|Code du b.vote|Inscrits|Abstentions|Votants|Blancs|Nuls|Exprimés|N°Panneau|Sexe|   Nom|  Prénom|Voix|  null|  null|null|\n",
      "|                 01|                        04|               001|          0001|     643|        146|    497|    42|   5|     450|        1|   M|MACRON|Emmanuel| 237|LE PEN|Marine| 213|\n",
      "|                 01|                        05|               002|          0001|     213|         45|    168|    23|   3|     142|        1|   M|MACRON|Emmanuel|  94|LE PEN|Marine|  48|\n",
      "|                 01|                        05|               004|          0001|    1130|        322|    808|    71|  22|     715|        1|   M|MACRON|Emmanuel| 360|LE PEN|Marine| 355|\n",
      "|                 01|                        05|               004|          0002|    1129|        313|    816|    45|  18|     753|        1|   M|MACRON|Emmanuel| 426|LE PEN|Marine| 327|\n",
      "|                 01|                        05|               004|          0003|    1213|        303|    910|    87|  21|     802|        1|   M|MACRON|Emmanuel| 449|LE PEN|Marine| 353|\n",
      "|                 01|                        05|               004|          0004|     932|        270|    662|    55|  21|     586|        1|   M|MACRON|Emmanuel| 313|LE PEN|Marine| 273|\n",
      "|                 01|                        05|               004|          0005|    1046|        386|    660|    47|  23|     590|        1|   M|MACRON|Emmanuel| 306|LE PEN|Marine| 284|\n",
      "|                 01|                        05|               004|          0006|    1150|        318|    832|    46|  35|     751|        1|   M|MACRON|Emmanuel| 424|LE PEN|Marine| 327|\n",
      "|                 01|                        05|               004|          0007|    1034|        286|    748|    53|  10|     685|        1|   M|MACRON|Emmanuel| 373|LE PEN|Marine| 312|\n",
      "|                 01|                        05|               004|          0008|    1129|        250|    879|    57|  15|     807|        1|   M|MACRON|Emmanuel| 429|LE PEN|Marine| 378|\n",
      "|                 01|                        04|               005|          0001|    1282|        266|   1016|    47|  15|     954|        1|   M|MACRON|Emmanuel| 451|LE PEN|Marine| 503|\n",
      "|                 01|                        03|               006|          0001|     103|         19|     84|    12|   0|      72|        1|   M|MACRON|Emmanuel|  45|LE PEN|Marine|  27|\n",
      "|                 01|                        05|               007|          0001|    1140|        244|    896|    56|  17|     823|        1|   M|MACRON|Emmanuel| 442|LE PEN|Marine| 381|\n",
      "|                 01|                        05|               007|          0002|     892|        173|    719|    42|  13|     664|        1|   M|MACRON|Emmanuel| 283|LE PEN|Marine| 381|\n",
      "|                 01|                        02|               008|          0001|     552|        100|    452|    37|   5|     410|        1|   M|MACRON|Emmanuel| 198|LE PEN|Marine| 212|\n",
      "|                 01|                        03|               009|          0001|     280|         73|    207|    22|   3|     182|        1|   M|MACRON|Emmanuel| 102|LE PEN|Marine|  80|\n",
      "|                 01|                        03|               010|          0001|     792|        185|    607|    31|   8|     568|        1|   M|MACRON|Emmanuel| 227|LE PEN|Marine| 341|\n",
      "|                 01|                        05|               011|          0001|     289|         42|    247|    29|   4|     214|        1|   M|MACRON|Emmanuel| 101|LE PEN|Marine| 113|\n",
      "|                 01|                        05|               012|          0001|     283|         76|    207|    28|   6|     173|        1|   M|MACRON|Emmanuel|  92|LE PEN|Marine|  81|\n",
      "+-------------------+--------------------------+------------------+--------------+--------+-----------+-------+------+----+--------+---------+----+------+--------+----+------+------+----+\n",
      "only showing top 20 rows\n",
      "\n"
     ]
    }
   ],
   "source": [
    "delete = []\n",
    "\n",
    "df = df.drop(df.colRegex(\"`^*%*`\"))\n",
    "for col in df.columns : \n",
    "  if \"%\" in col : delete.append(col)\n",
    "  if \"Libellé\" in col : delete.append(col)\n",
    "\n",
    "for y in delete :\n",
    "  df = df.drop(y)\n",
    "\n",
    "df = df.drop(\"_c28\",\"_c29\",\"_c33\",\"_c34\")  \n",
    "\n",
    "df.show()\n",
    "\n",
    "\n"
   ]
  },
  {
   "cell_type": "code",
   "execution_count": 39,
   "metadata": {},
   "outputs": [
    {
     "name": "stdout",
     "output_type": "stream",
     "text": [
      "+--------+-----------+-------+------+----+--------+---------+----+------+--------+----+------+------+----+--------------------+\n",
      "|Inscrits|Abstentions|Votants|Blancs|Nuls|Exprimés|N°Panneau|Sexe|   Nom|  Prénom|Voix|  _c30|  _c31|_c32|               Code1|\n",
      "+--------+-----------+-------+------+----+--------+---------+----+------+--------+----+------+------+----+--------------------+\n",
      "|Inscrits|Abstentions|Votants|Blancs|Nuls|Exprimés|N°Panneau|Sexe|   Nom|  Prénom|Voix|  null|  null|null|Code du départeme...|\n",
      "|     643|        146|    497|    42|   5|     450|        1|   M|MACRON|Emmanuel| 237|LE PEN|Marine| 213|      01/04/001/0001|\n",
      "|     213|         45|    168|    23|   3|     142|        1|   M|MACRON|Emmanuel|  94|LE PEN|Marine|  48|      01/05/002/0001|\n",
      "|    1130|        322|    808|    71|  22|     715|        1|   M|MACRON|Emmanuel| 360|LE PEN|Marine| 355|      01/05/004/0001|\n",
      "|    1129|        313|    816|    45|  18|     753|        1|   M|MACRON|Emmanuel| 426|LE PEN|Marine| 327|      01/05/004/0002|\n",
      "|    1213|        303|    910|    87|  21|     802|        1|   M|MACRON|Emmanuel| 449|LE PEN|Marine| 353|      01/05/004/0003|\n",
      "|     932|        270|    662|    55|  21|     586|        1|   M|MACRON|Emmanuel| 313|LE PEN|Marine| 273|      01/05/004/0004|\n",
      "|    1046|        386|    660|    47|  23|     590|        1|   M|MACRON|Emmanuel| 306|LE PEN|Marine| 284|      01/05/004/0005|\n",
      "|    1150|        318|    832|    46|  35|     751|        1|   M|MACRON|Emmanuel| 424|LE PEN|Marine| 327|      01/05/004/0006|\n",
      "|    1034|        286|    748|    53|  10|     685|        1|   M|MACRON|Emmanuel| 373|LE PEN|Marine| 312|      01/05/004/0007|\n",
      "|    1129|        250|    879|    57|  15|     807|        1|   M|MACRON|Emmanuel| 429|LE PEN|Marine| 378|      01/05/004/0008|\n",
      "|    1282|        266|   1016|    47|  15|     954|        1|   M|MACRON|Emmanuel| 451|LE PEN|Marine| 503|      01/04/005/0001|\n",
      "|     103|         19|     84|    12|   0|      72|        1|   M|MACRON|Emmanuel|  45|LE PEN|Marine|  27|      01/03/006/0001|\n",
      "|    1140|        244|    896|    56|  17|     823|        1|   M|MACRON|Emmanuel| 442|LE PEN|Marine| 381|      01/05/007/0001|\n",
      "|     892|        173|    719|    42|  13|     664|        1|   M|MACRON|Emmanuel| 283|LE PEN|Marine| 381|      01/05/007/0002|\n",
      "|     552|        100|    452|    37|   5|     410|        1|   M|MACRON|Emmanuel| 198|LE PEN|Marine| 212|      01/02/008/0001|\n",
      "|     280|         73|    207|    22|   3|     182|        1|   M|MACRON|Emmanuel| 102|LE PEN|Marine|  80|      01/03/009/0001|\n",
      "|     792|        185|    607|    31|   8|     568|        1|   M|MACRON|Emmanuel| 227|LE PEN|Marine| 341|      01/03/010/0001|\n",
      "|     289|         42|    247|    29|   4|     214|        1|   M|MACRON|Emmanuel| 101|LE PEN|Marine| 113|      01/05/011/0001|\n",
      "|     283|         76|    207|    28|   6|     173|        1|   M|MACRON|Emmanuel|  92|LE PEN|Marine|  81|      01/05/012/0001|\n",
      "+--------+-----------+-------+------+----+--------+---------+----+------+--------+----+------+------+----+--------------------+\n",
      "only showing top 20 rows\n",
      "\n"
     ]
    }
   ],
   "source": [
    "df = df.withColumn(\"Code\", F.concat( F.col(\"Code du département\"), F.lit(\"/\"),\\\n",
    "                                     F.col(\"Code de la circonscription\"), F.lit(\"/\"),\\\n",
    "                                     F.col(\"Code de la commune\"), F.lit(\"/\"),\\\n",
    "                                     F.col(\"Code du b_vote\")))\\\n",
    "       .withColumnRenamed(\"Code\",\"Code1\")\n",
    "\n",
    "df = df.drop(\"Code du département\",\"Code de la circonscription\",\"Code de la commune\",\"Code du b_vote\")\n",
    "df.show()"
   ]
  },
  {
   "cell_type": "code",
   "execution_count": 40,
   "metadata": {},
   "outputs": [
    {
     "data": {
      "text/plain": [
       "139366"
      ]
     },
     "execution_count": 40,
     "metadata": {},
     "output_type": "execute_result"
    }
   ],
   "source": [
    "df0 = df.select(\"Code1\",\"Nom\",\"Prénom\",\"Voix\")\n",
    "df1 = df.select(\"Code1\",\"_c30\",\"_c31\",\"_c32\")\\\n",
    "        .withColumnRenamed(\"_c30\",\"Nom\").withColumnRenamed(\"_c31\",\"Prénom\").withColumnRenamed(\"_c32\",\"Voix\")\n",
    "\n",
    "dfnew = df0.union(df1)\n",
    "dfnew.count()"
   ]
  },
  {
   "cell_type": "code",
   "execution_count": 41,
   "metadata": {},
   "outputs": [
    {
     "name": "stderr",
     "output_type": "stream",
     "text": [
      "                                                                                \r"
     ]
    },
    {
     "name": "stdout",
     "output_type": "stream",
     "text": [
      "+--------------------+--------+-----------+-------+------+----+--------+------+--------+----+\n",
      "|                Code|Inscrits|Abstentions|Votants|Blancs|Nuls|Exprimés|   Nom|  Prénom|Voix|\n",
      "+--------------------+--------+-----------+-------+------+----+--------+------+--------+----+\n",
      "|Code du départeme...|Inscrits|Abstentions|Votants|Blancs|Nuls|Exprimés|   Nom|  Prénom|Voix|\n",
      "|      01/04/001/0001|     643|        146|    497|    42|   5|     450|MACRON|Emmanuel| 237|\n",
      "|      01/05/002/0001|     213|         45|    168|    23|   3|     142|MACRON|Emmanuel|  94|\n",
      "|      01/05/004/0001|    1130|        322|    808|    71|  22|     715|MACRON|Emmanuel| 360|\n",
      "|      01/05/004/0002|    1129|        313|    816|    45|  18|     753|MACRON|Emmanuel| 426|\n",
      "|      01/05/004/0003|    1213|        303|    910|    87|  21|     802|MACRON|Emmanuel| 449|\n",
      "|      01/05/004/0004|     932|        270|    662|    55|  21|     586|MACRON|Emmanuel| 313|\n",
      "|      01/05/004/0005|    1046|        386|    660|    47|  23|     590|MACRON|Emmanuel| 306|\n",
      "|      01/05/004/0006|    1150|        318|    832|    46|  35|     751|MACRON|Emmanuel| 424|\n",
      "|      01/05/004/0007|    1034|        286|    748|    53|  10|     685|MACRON|Emmanuel| 373|\n",
      "|      01/05/004/0008|    1129|        250|    879|    57|  15|     807|MACRON|Emmanuel| 429|\n",
      "|      01/04/005/0001|    1282|        266|   1016|    47|  15|     954|MACRON|Emmanuel| 451|\n",
      "|      01/03/006/0001|     103|         19|     84|    12|   0|      72|MACRON|Emmanuel|  45|\n",
      "|      01/05/007/0001|    1140|        244|    896|    56|  17|     823|MACRON|Emmanuel| 442|\n",
      "|      01/05/007/0002|     892|        173|    719|    42|  13|     664|MACRON|Emmanuel| 283|\n",
      "|      01/02/008/0001|     552|        100|    452|    37|   5|     410|MACRON|Emmanuel| 198|\n",
      "|      01/03/009/0001|     280|         73|    207|    22|   3|     182|MACRON|Emmanuel| 102|\n",
      "|      01/03/010/0001|     792|        185|    607|    31|   8|     568|MACRON|Emmanuel| 227|\n",
      "|      01/05/011/0001|     289|         42|    247|    29|   4|     214|MACRON|Emmanuel| 101|\n",
      "|      01/05/012/0001|     283|         76|    207|    28|   6|     173|MACRON|Emmanuel|  92|\n",
      "+--------------------+--------+-----------+-------+------+----+--------+------+--------+----+\n",
      "only showing top 20 rows\n",
      "\n"
     ]
    }
   ],
   "source": [
    "df = df.select(\"Code1\",\"Inscrits\",\"Abstentions\",\"Votants\",\"Blancs\",\"Nuls\",\"Exprimés\").withColumnRenamed(\"Code1\",\"Code\")\n",
    "df = df.join(dfnew, df.Code == dfnew.Code1 ,\"inner\").drop(\"Code1\")\n",
    "df.show()"
   ]
  },
  {
   "cell_type": "code",
   "execution_count": 42,
   "metadata": {},
   "outputs": [
    {
     "name": "stderr",
     "output_type": "stream",
     "text": [
      "[Stage 22:================================================>         (5 + 1) / 6]\r"
     ]
    },
    {
     "name": "stdout",
     "output_type": "stream",
     "text": [
      "+--------------+--------+-----------+-------+------+----+--------+------+--------+----+\n",
      "|          Code|Inscrits|Abstentions|Votants|Blancs|Nuls|Exprimés|   Nom|  Prénom|Voix|\n",
      "+--------------+--------+-----------+-------+------+----+--------+------+--------+----+\n",
      "|01/01/016/0001|     326|         59|    267|    12|   5|     250|LE PEN|  Marine| 138|\n",
      "|01/01/016/0001|     326|         59|    267|    12|   5|     250|MACRON|Emmanuel| 112|\n",
      "|01/01/024/0001|    1207|        229|    978|    49|  17|     912|LE PEN|  Marine| 420|\n",
      "|01/01/024/0001|    1207|        229|    978|    49|  17|     912|MACRON|Emmanuel| 492|\n",
      "|01/01/024/0002|    1247|        257|    990|    57|  14|     919|LE PEN|  Marine| 423|\n",
      "|01/01/024/0002|    1247|        257|    990|    57|  14|     919|MACRON|Emmanuel| 496|\n",
      "|01/01/029/0001|     445|         79|    366|    14|   6|     346|LE PEN|  Marine| 199|\n",
      "|01/01/029/0001|     445|         79|    366|    14|   6|     346|MACRON|Emmanuel| 147|\n",
      "|01/01/038/0001|     594|         98|    496|    33|   9|     454|LE PEN|  Marine| 222|\n",
      "|01/01/038/0001|     594|         98|    496|    33|   9|     454|MACRON|Emmanuel| 232|\n",
      "|01/01/040/0001|     365|         89|    276|     6|   7|     263|LE PEN|  Marine| 130|\n",
      "|01/01/040/0001|     365|         89|    276|     6|   7|     263|MACRON|Emmanuel| 133|\n",
      "|01/01/050/0001|     264|         53|    211|    14|   4|     193|LE PEN|  Marine| 108|\n",
      "|01/01/050/0001|     264|         53|    211|    14|   4|     193|MACRON|Emmanuel|  85|\n",
      "|01/01/053/0001|    1239|        346|    893|    49|  19|     825|LE PEN|  Marine| 248|\n",
      "|01/01/053/0001|    1239|        346|    893|    49|  19|     825|MACRON|Emmanuel| 577|\n",
      "|01/01/053/0002|    1182|        373|    809|    61|  15|     733|LE PEN|  Marine| 223|\n",
      "|01/01/053/0002|    1182|        373|    809|    61|  15|     733|MACRON|Emmanuel| 510|\n",
      "|01/01/053/0003|     798|        354|    444|    24|   7|     413|LE PEN|  Marine| 137|\n",
      "|01/01/053/0003|     798|        354|    444|    24|   7|     413|MACRON|Emmanuel| 276|\n",
      "+--------------+--------+-----------+-------+------+----+--------+------+--------+----+\n",
      "only showing top 20 rows\n",
      "\n"
     ]
    },
    {
     "name": "stderr",
     "output_type": "stream",
     "text": [
      "                                                                                \r"
     ]
    }
   ],
   "source": [
    "df = df.orderBy(F.col(\"Code\"),F.col(\"Nom\"))\n",
    "df.show()"
   ]
  },
  {
   "cell_type": "code",
   "execution_count": 43,
   "metadata": {},
   "outputs": [
    {
     "name": "stdout",
     "output_type": "stream",
     "text": [
      "+----+-------------------+--------------------------+------------------+--------------+--------+-----------+-------+------+----+--------+------+--------+----+\n",
      "|Tour|Code du département|Code de la circonscription|Code de la commune|Code du b_vote|Inscrits|Abstentions|Votants|Blancs|Nuls|Exprimés|   Nom|  Prénom|Voix|\n",
      "+----+-------------------+--------------------------+------------------+--------------+--------+-----------+-------+------+----+--------+------+--------+----+\n",
      "|   2|                 01|                        01|               016|          0001|     326|         59|    267|    12|   5|     250|LE PEN|  Marine| 138|\n",
      "|   2|                 01|                        01|               016|          0001|     326|         59|    267|    12|   5|     250|MACRON|Emmanuel| 112|\n",
      "|   2|                 01|                        01|               024|          0001|    1207|        229|    978|    49|  17|     912|LE PEN|  Marine| 420|\n",
      "|   2|                 01|                        01|               024|          0001|    1207|        229|    978|    49|  17|     912|MACRON|Emmanuel| 492|\n",
      "|   2|                 01|                        01|               024|          0002|    1247|        257|    990|    57|  14|     919|LE PEN|  Marine| 423|\n",
      "|   2|                 01|                        01|               024|          0002|    1247|        257|    990|    57|  14|     919|MACRON|Emmanuel| 496|\n",
      "|   2|                 01|                        01|               029|          0001|     445|         79|    366|    14|   6|     346|LE PEN|  Marine| 199|\n",
      "|   2|                 01|                        01|               029|          0001|     445|         79|    366|    14|   6|     346|MACRON|Emmanuel| 147|\n",
      "|   2|                 01|                        01|               038|          0001|     594|         98|    496|    33|   9|     454|LE PEN|  Marine| 222|\n",
      "|   2|                 01|                        01|               038|          0001|     594|         98|    496|    33|   9|     454|MACRON|Emmanuel| 232|\n",
      "|   2|                 01|                        01|               040|          0001|     365|         89|    276|     6|   7|     263|LE PEN|  Marine| 130|\n",
      "|   2|                 01|                        01|               040|          0001|     365|         89|    276|     6|   7|     263|MACRON|Emmanuel| 133|\n",
      "|   2|                 01|                        01|               050|          0001|     264|         53|    211|    14|   4|     193|LE PEN|  Marine| 108|\n",
      "|   2|                 01|                        01|               050|          0001|     264|         53|    211|    14|   4|     193|MACRON|Emmanuel|  85|\n",
      "|   2|                 01|                        01|               053|          0001|    1239|        346|    893|    49|  19|     825|LE PEN|  Marine| 248|\n",
      "|   2|                 01|                        01|               053|          0001|    1239|        346|    893|    49|  19|     825|MACRON|Emmanuel| 577|\n",
      "|   2|                 01|                        01|               053|          0002|    1182|        373|    809|    61|  15|     733|LE PEN|  Marine| 223|\n",
      "|   2|                 01|                        01|               053|          0002|    1182|        373|    809|    61|  15|     733|MACRON|Emmanuel| 510|\n",
      "|   2|                 01|                        01|               053|          0003|     798|        354|    444|    24|   7|     413|LE PEN|  Marine| 137|\n",
      "|   2|                 01|                        01|               053|          0003|     798|        354|    444|    24|   7|     413|MACRON|Emmanuel| 276|\n",
      "+----+-------------------+--------------------------+------------------+--------------+--------+-----------+-------+------+----+--------+------+--------+----+\n",
      "only showing top 20 rows\n",
      "\n"
     ]
    },
    {
     "name": "stderr",
     "output_type": "stream",
     "text": [
      "                                                                                \r"
     ]
    }
   ],
   "source": [
    "df = df.withColumn(\"Tour\", lit(2))\\\n",
    "       .withColumn('Code du département', F.split(F.col(\"Code\"), '/').getItem(0)) \\\n",
    "       .withColumn('Code de la circonscription', F.split(F.col(\"Code\"), '/').getItem(1)) \\\n",
    "       .withColumn('Code de la commune', F.split(F.col(\"Code\"), '/').getItem(2))\\\n",
    "       .withColumn('Code du b_vote', F.split(F.col(\"Code\"), '/').getItem(3))\\\n",
    "       .drop(\"Code\")\n",
    "\n",
    "df = df.select(\"Tour\",\"Code du département\",\"Code de la circonscription\",\"Code de la commune\",\"Code du b_vote\",\\\n",
    "          \"Inscrits\",\"Abstentions\",\"Votants\",\"Blancs\",\"Nuls\",\"Exprimés\",\"Nom\",\"Prénom\",\"Voix\")\n",
    "\n",
    "df.show()"
   ]
  },
  {
   "cell_type": "code",
   "execution_count": null,
   "metadata": {},
   "outputs": [],
   "source": [
    "df.write.csv(\"/home/gildas/Bureau/ECE/data/datatour2\")"
   ]
  }
 ],
 "metadata": {
  "kernelspec": {
   "display_name": "Python 3 (ipykernel)",
   "language": "python",
   "name": "python3"
  },
  "language_info": {
   "codemirror_mode": {
    "name": "ipython",
    "version": 3
   },
   "file_extension": ".py",
   "mimetype": "text/x-python",
   "name": "python",
   "nbconvert_exporter": "python",
   "pygments_lexer": "ipython3",
   "version": "3.10.6 (main, Nov 14 2022, 16:10:14) [GCC 11.3.0]"
  },
  "orig_nbformat": 4,
  "vscode": {
   "interpreter": {
    "hash": "916dbcbb3f70747c44a77c7bcd40155683ae19c65e1c03b4aa3499c5328201f1"
   }
  }
 },
 "nbformat": 4,
 "nbformat_minor": 2
}
