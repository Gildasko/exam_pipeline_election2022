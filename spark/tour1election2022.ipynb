{
 "cells": [
  {
   "cell_type": "code",
   "execution_count": 1,
   "metadata": {},
   "outputs": [
    {
     "name": "stdout",
     "output_type": "stream",
     "text": [
      "23/01/01 18:31:22 WARN Utils: Your hostname, gildas-VirtualBox resolves to a loopback address: 127.0.1.1; using 10.0.2.15 instead (on interface enp0s3)\n",
      "23/01/01 18:31:22 WARN Utils: Set SPARK_LOCAL_IP if you need to bind to another address\n"
     ]
    },
    {
     "name": "stderr",
     "output_type": "stream",
     "text": [
      "Setting default log level to \"WARN\".\n",
      "To adjust logging level use sc.setLogLevel(newLevel). For SparkR, use setLogLevel(newLevel).\n"
     ]
    },
    {
     "name": "stdout",
     "output_type": "stream",
     "text": [
      "23/01/01 18:31:24 WARN NativeCodeLoader: Unable to load native-hadoop library for your platform... using builtin-java classes where applicable\n"
     ]
    }
   ],
   "source": [
    "\n",
    "from pyspark.sql import SparkSession\n",
    "from pyspark.sql.functions import lit\n",
    "import pyspark.sql.functions as F\n",
    "import pyspark.sql.types as T\n",
    "import pandas as pd\n",
    "spark = SparkSession.builder.getOrCreate();\n"
   ]
  },
  {
   "cell_type": "code",
   "execution_count": 2,
   "metadata": {},
   "outputs": [],
   "source": [
    "import os\n",
    "os.environ['PYSPARK_SUBMIT_ARGS'] = '--packages org.apache.spark:spark-streaming-kafka-0-8_2.11:2.13.0,org.apache.spark:spark-sql-kafka-0-10_2.11:2.13.0 pyspark-shell' \n",
    "from ast import literal_eval\n",
    "\n"
   ]
  },
  {
   "cell_type": "code",
   "execution_count": 3,
   "metadata": {},
   "outputs": [],
   "source": [
    "# ds = spark \\\n",
    "#   .readStream \\\n",
    "#   .format(\"kafka\") \\\n",
    "#   .option(\"kafka.bootstrap.servers\", \"hlocalhost:9092\") \\\n",
    "#   .option(\"subscribe\", \"ValidatedRecords\") \\\n",
    "#   .option(\"includeHeaders\", \"true\") \\\n",
    "#   .load()\n",
    "  \n",
    "# ds.show()"
   ]
  },
  {
   "cell_type": "code",
   "execution_count": 4,
   "metadata": {},
   "outputs": [
    {
     "data": {
      "text/plain": [
       "' appName = \"Kafka Examples\"\\nmaster = \"local\"\\n\\nspark = SparkSession.builder     .master(master)     .appName(appName)     .getOrCreate()\\n\\nkafka_servers = \"localhost:9092\"\\n\\ndfk = spark     .read     .format(\"kafka\")     .option(\"kafka.bootstrap.servers\", kafka_servers)     .option(\"subscribe\", \"ValidatedRecords\")     .load '"
      ]
     },
     "execution_count": 4,
     "metadata": {},
     "output_type": "execute_result"
    }
   ],
   "source": [
    "\"\"\" appName = \"Kafka Examples\"\n",
    "master = \"local\"\n",
    "\n",
    "spark = SparkSession.builder \\\n",
    "    .master(master) \\\n",
    "    .appName(appName) \\\n",
    "    .getOrCreate()\n",
    "\n",
    "kafka_servers = \"localhost:9092\"\n",
    "\n",
    "dfk = spark \\\n",
    "    .read \\\n",
    "    .format(\"kafka\") \\\n",
    "    .option(\"kafka.bootstrap.servers\", kafka_servers) \\\n",
    "    .option(\"subscribe\", \"ValidatedRecords\") \\\n",
    "    .load \"\"\""
   ]
  },
  {
   "cell_type": "code",
   "execution_count": 5,
   "metadata": {},
   "outputs": [
    {
     "name": "stderr",
     "output_type": "stream",
     "text": [
      "/home/gildas/.local/lib/python3.10/site-packages/IPython/core/interactiveshell.py:3433: DtypeWarning: Columns (0,6) have mixed types.Specify dtype option on import or set low_memory=False.\n",
      "  exec(code_obj, self.user_global_ns, self.user_ns)\n"
     ]
    },
    {
     "name": "stdout",
     "output_type": "stream",
     "text": [
      "23/01/01 18:31:40 WARN package: Truncated the string representation of a plan since it was too large. This behavior can be adjusted by setting 'spark.sql.debug.maxToStringFields'.\n"
     ]
    },
    {
     "name": "stderr",
     "output_type": "stream",
     "text": [
      "                                                                                \r"
     ]
    },
    {
     "name": "stdout",
     "output_type": "stream",
     "text": [
      "+-------------------+----------------------+--------------------------+-----------------------------+------------------+---------------------+--------------+--------+-----------+---------+-------+---------+------+------------+------------+----+----------+----------+--------+---------+---------+---------+----+-------+--------+----+----------+----------+----+----+-------+------+----+----+----+----+----+------+--------+----+-----+-----+----+----+--------+----+----+----+----+----+----+------+------+----+-----+-----+----+----+-------+----+----+----+-----+----+----+---------+--------+----+-----+-----+----+----+-------+----+----+----+----+----+----+-----+-------+----+----+----+----+----+--------+-------+----+----+-----+----+----+------+--------+----+----+----+----+----+-------------+-------+-----+-----+-----+\n",
      "|Code du département|Libellé du département|Code de la circonscription|Libellé de la circonscription|Code de la commune|Libellé de la commune|Code du b_vote|Inscrits|Abstentions|% Abs/Ins|Votants|% Vot/Ins|Blancs|% Blancs/Ins|% Blancs/Vot|Nuls|% Nuls/Ins|% Nuls/Vot|Exprimés|% Exp/Ins|% Exp/Vot|N°Panneau|Sexe|    Nom|  Prénom|Voix|% Voix/Ins|% Voix/Exp|_c28|_c29|   _c30|  _c31|_c32|_c33|_c34|_c35|_c36|  _c37|    _c38|_c39| _c40| _c41|_c42|_c43|    _c44|_c45|_c46|_c47|_c48|_c49|_c50|  _c51|  _c52|_c53| _c54| _c55|_c56|_c57|   _c58|_c59|_c60|_c61| _c62|_c63|_c64|     _c65|    _c66|_c67| _c68| _c69|_c70|_c71|   _c72|_c73|_c74|_c75|_c76|_c77|_c78| _c79|   _c80|_c81|_c82|_c83|_c84|_c85|    _c86|   _c87|_c88|_c89| _c90|_c91|_c92|  _c93|    _c94|_c95|_c96|_c97|_c98|_c99|        _c100|  _c101|_c102|_c103|_c104|\n",
      "+-------------------+----------------------+--------------------------+-----------------------------+------------------+---------------------+--------------+--------+-----------+---------+-------+---------+------+------------+------------+----+----------+----------+--------+---------+---------+---------+----+-------+--------+----+----------+----------+----+----+-------+------+----+----+----+----+----+------+--------+----+-----+-----+----+----+--------+----+----+----+----+----+----+------+------+----+-----+-----+----+----+-------+----+----+----+-----+----+----+---------+--------+----+-----+-----+----+----+-------+----+----+----+----+----+----+-----+-------+----+----+----+----+----+--------+-------+----+----+-----+----+----+------+--------+----+----+----+----+----+-------------+-------+-----+-----+-----+\n",
      "|Code du département|  Libellé du départ...|      Code de la circon...|         Libellé de la cir...|Code de la commune| Libellé de la com...|Code du b.vote|Inscrits|Abstentions|% Abs/Ins|Votants|% Vot/Ins|Blancs|% Blancs/Ins|% Blancs/Vot|Nuls|% Nuls/Ins|% Nuls/Vot|Exprimés|% Exp/Ins|% Exp/Vot|N°Panneau|Sexe|    Nom|  Prénom|Voix|% Voix/Ins|% Voix/Exp|null|null|   null|  null|null|null|null|null|null|  null|    null|null| null| null|null|null|    null|null|null|null|null|null|null|  null|  null|null| null| null|null|null|   null|null|null|null| null|null|null|     null|    null|null| null| null|null|null|   null|null|null|null|null|null|null| null|   null|null|null|null|null|null|    null|   null|null|null| null|null|null|  null|    null|null|null|null|null|null|         null|   null| null| null| null|\n",
      "|                 01|                   Ain|                        04|         4ème circonscription|               001| L'Abergement-Clém...|          0001|     645|        108|    16,74|    537|    83,26|    16|        2,48|        2,98|   1|      0,16|      0,19|     520|    80,62|    96,83|        1|   F|ARTHAUD|Nathalie|   3|      0,47|      0,58|   2|   M|ROUSSEL|Fabien|   6|0,93|1,15|   3|   M|MACRON|Emmanuel| 150|23,26|28,85|   4|   M|LASSALLE|Jean|  18|2,79|3,46|   5|   F|LE PEN|Marine| 149|23,10|28,65|   6|   M|ZEMMOUR|Éric|  43|6,67| 8,27|   7|   M|MÉLENCHON|Jean-Luc|  66|10,23|12,69|   8|   F|HIDALGO|Anne|   5|0,78|0,96|   9|   M|JADOT|Yannick|  30|4,65|5,77|  10|   F|PÉCRESSE|Valérie|  26|4,03| 5,00|  11|   M|POUTOU|Philippe|   3|0,47|0,58|  12|   M|DUPONT-AIGNAN|Nicolas|   21| 3,26| 4,04|\n",
      "|                 01|                   Ain|                        05|         5ème circonscription|               002| L'Abergement-de-V...|          0001|     213|         38|    17,84|    175|    82,16|     3|        1,41|        1,71|   1|      0,47|      0,57|     171|    80,28|    97,71|        1|   F|ARTHAUD|Nathalie|   2|      0,94|      1,17|   2|   M|ROUSSEL|Fabien|   7|3,29|4,09|   3|   M|MACRON|Emmanuel|  50|23,47|29,24|   4|   M|LASSALLE|Jean|  10|4,69|5,85|   5|   F|LE PEN|Marine|  23|10,80|13,45|   6|   M|ZEMMOUR|Éric|  14|6,57| 8,19|   7|   M|MÉLENCHON|Jean-Luc|  41|19,25|23,98|   8|   F|HIDALGO|Anne|   3|1,41|1,75|   9|   M|JADOT|Yannick|  10|4,69|5,85|  10|   F|PÉCRESSE|Valérie|   8|3,76| 4,68|  11|   M|POUTOU|Philippe|   3|1,41|1,75|  12|   M|DUPONT-AIGNAN|Nicolas|    0| 0,00| 0,00|\n",
      "|                 01|                   Ain|                        05|         5ème circonscription|               004|    Ambérieu-en-Bugey|          0001|    1129|        266|    23,56|    863|    76,44|    18|        1,59|        2,09|   5|      0,44|      0,58|     840|    74,40|    97,33|        1|   F|ARTHAUD|Nathalie|   4|      0,35|      0,48|   2|   M|ROUSSEL|Fabien|  30|2,66|3,57|   3|   M|MACRON|Emmanuel| 159|14,08|18,93|   4|   M|LASSALLE|Jean|  24|2,13|2,86|   5|   F|LE PEN|Marine| 237|20,99|28,21|   6|   M|ZEMMOUR|Éric|  69|6,11| 8,21|   7|   M|MÉLENCHON|Jean-Luc| 216|19,13|25,71|   8|   F|HIDALGO|Anne|  15|1,33|1,79|   9|   M|JADOT|Yannick|  25|2,21|2,98|  10|   F|PÉCRESSE|Valérie|  40|3,54| 4,76|  11|   M|POUTOU|Philippe|   8|0,71|0,95|  12|   M|DUPONT-AIGNAN|Nicolas|   13| 1,15| 1,55|\n",
      "|                 01|                   Ain|                        05|         5ème circonscription|               004|    Ambérieu-en-Bugey|          0002|    1128|        265|    23,49|    863|    76,51|    15|        1,33|        1,74|   6|      0,53|      0,70|     842|    74,65|    97,57|        1|   F|ARTHAUD|Nathalie|   6|      0,53|      0,71|   2|   M|ROUSSEL|Fabien|  13|1,15|1,54|   3|   M|MACRON|Emmanuel| 201|17,82|23,87|   4|   M|LASSALLE|Jean|  19|1,68|2,26|   5|   F|LE PEN|Marine| 210|18,62|24,94|   6|   M|ZEMMOUR|Éric|  68|6,03| 8,08|   7|   M|MÉLENCHON|Jean-Luc| 194|17,20|23,04|   8|   F|HIDALGO|Anne|  19|1,68|2,26|   9|   M|JADOT|Yannick|  46|4,08|5,46|  10|   F|PÉCRESSE|Valérie|  42|3,72| 4,99|  11|   M|POUTOU|Philippe|   4|0,35|0,48|  12|   M|DUPONT-AIGNAN|Nicolas|   20| 1,77| 2,38|\n",
      "|                 01|                   Ain|                        05|         5ème circonscription|               004|    Ambérieu-en-Bugey|          0003|    1213|        246|    20,28|    967|    79,72|    10|        0,82|        1,03|   8|      0,66|      0,83|     949|    78,24|    98,14|        1|   F|ARTHAUD|Nathalie|   8|      0,66|      0,84|   2|   M|ROUSSEL|Fabien|  18|1,48|1,90|   3|   M|MACRON|Emmanuel| 229|18,88|24,13|   4|   M|LASSALLE|Jean|  28|2,31|2,95|   5|   F|LE PEN|Marine| 227|18,71|23,92|   6|   M|ZEMMOUR|Éric|  74|6,10| 7,80|   7|   M|MÉLENCHON|Jean-Luc| 227|18,71|23,92|   8|   F|HIDALGO|Anne|  16|1,32|1,69|   9|   M|JADOT|Yannick|  65|5,36|6,85|  10|   F|PÉCRESSE|Valérie|  35|2,89| 3,69|  11|   M|POUTOU|Philippe|   3|0,25|0,32|  12|   M|DUPONT-AIGNAN|Nicolas|   19| 1,57| 2,00|\n",
      "|                 01|                   Ain|                        05|         5ème circonscription|               004|    Ambérieu-en-Bugey|          0004|     933|        224|    24,01|    709|    75,99|     8|        0,86|        1,13|   4|      0,43|      0,56|     697|    74,71|    98,31|        1|   F|ARTHAUD|Nathalie|   4|      0,43|      0,57|   2|   M|ROUSSEL|Fabien|  21|2,25|3,01|   3|   M|MACRON|Emmanuel| 156|16,72|22,38|   4|   M|LASSALLE|Jean|  16|1,71|2,30|   5|   F|LE PEN|Marine| 172|18,44|24,68|   6|   M|ZEMMOUR|Éric|  40|4,29| 5,74|   7|   M|MÉLENCHON|Jean-Luc| 202|21,65|28,98|   8|   F|HIDALGO|Anne|   8|0,86|1,15|   9|   M|JADOT|Yannick|  15|1,61|2,15|  10|   F|PÉCRESSE|Valérie|  33|3,54| 4,73|  11|   M|POUTOU|Philippe|   4|0,43|0,57|  12|   M|DUPONT-AIGNAN|Nicolas|   26| 2,79| 3,73|\n",
      "|                 01|                   Ain|                        05|         5ème circonscription|               004|    Ambérieu-en-Bugey|          0005|    1047|        324|    30,95|    723|    69,05|    11|        1,05|        1,52|   5|      0,48|      0,69|     707|    67,53|    97,79|        1|   F|ARTHAUD|Nathalie|   7|      0,67|      0,99|   2|   M|ROUSSEL|Fabien|  22|2,10|3,11|   3|   M|MACRON|Emmanuel| 132|12,61|18,67|   4|   M|LASSALLE|Jean|  19|1,81|2,69|   5|   F|LE PEN|Marine| 178|17,00|25,18|   6|   M|ZEMMOUR|Éric|  46|4,39| 6,51|   7|   M|MÉLENCHON|Jean-Luc| 226|21,59|31,97|   8|   F|HIDALGO|Anne|   6|0,57|0,85|   9|   M|JADOT|Yannick|  24|2,29|3,39|  10|   F|PÉCRESSE|Valérie|  23|2,20| 3,25|  11|   M|POUTOU|Philippe|   8|0,76|1,13|  12|   M|DUPONT-AIGNAN|Nicolas|   16| 1,53| 2,26|\n",
      "|                 01|                   Ain|                        05|         5ème circonscription|               004|    Ambérieu-en-Bugey|          0006|    1152|        278|    24,13|    874|    75,87|     8|        0,69|        0,92|  10|      0,87|      1,14|     856|    74,31|    97,94|        1|   F|ARTHAUD|Nathalie|   4|      0,35|      0,47|   2|   M|ROUSSEL|Fabien|  24|2,08|2,80|   3|   M|MACRON|Emmanuel| 175|15,19|20,44|   4|   M|LASSALLE|Jean|  20|1,74|2,34|   5|   F|LE PEN|Marine| 207|17,97|24,18|   6|   M|ZEMMOUR|Éric|  67|5,82| 7,83|   7|   M|MÉLENCHON|Jean-Luc| 210|18,23|24,53|   8|   F|HIDALGO|Anne|  18|1,56|2,10|   9|   M|JADOT|Yannick|  51|4,43|5,96|  10|   F|PÉCRESSE|Valérie|  43|3,73| 5,02|  11|   M|POUTOU|Philippe|   8|0,69|0,93|  12|   M|DUPONT-AIGNAN|Nicolas|   29| 2,52| 3,39|\n",
      "|                 01|                   Ain|                        05|         5ème circonscription|               004|    Ambérieu-en-Bugey|          0007|    1034|        247|    23,89|    787|    76,11|     9|        0,87|        1,14|   2|      0,19|      0,25|     776|    75,05|    98,60|        1|   F|ARTHAUD|Nathalie|   3|      0,29|      0,39|   2|   M|ROUSSEL|Fabien|  22|2,13|2,84|   3|   M|MACRON|Emmanuel| 189|18,28|24,36|   4|   M|LASSALLE|Jean|  19|1,84|2,45|   5|   F|LE PEN|Marine| 188|18,18|24,23|   6|   M|ZEMMOUR|Éric|  74|7,16| 9,54|   7|   M|MÉLENCHON|Jean-Luc| 159|15,38|20,49|   8|   F|HIDALGO|Anne|  10|0,97|1,29|   9|   M|JADOT|Yannick|  33|3,19|4,25|  10|   F|PÉCRESSE|Valérie|  45|4,35| 5,80|  11|   M|POUTOU|Philippe|   5|0,48|0,64|  12|   M|DUPONT-AIGNAN|Nicolas|   29| 2,80| 3,74|\n",
      "|                 01|                   Ain|                        05|         5ème circonscription|               004|    Ambérieu-en-Bugey|          0008|    1129|        228|    20,19|    901|    79,81|     9|        0,80|        1,00|   6|      0,53|      0,67|     886|    78,48|    98,34|        1|   F|ARTHAUD|Nathalie|   2|      0,18|      0,23|   2|   M|ROUSSEL|Fabien|  23|2,04|2,60|   3|   M|MACRON|Emmanuel| 212|18,78|23,93|   4|   M|LASSALLE|Jean|  32|2,83|3,61|   5|   F|LE PEN|Marine| 227|20,11|25,62|   6|   M|ZEMMOUR|Éric|  92|8,15|10,38|   7|   M|MÉLENCHON|Jean-Luc| 170|15,06|19,19|   8|   F|HIDALGO|Anne|  20|1,77|2,26|   9|   M|JADOT|Yannick|  28|2,48|3,16|  10|   F|PÉCRESSE|Valérie|  48|4,25| 5,42|  11|   M|POUTOU|Philippe|   3|0,27|0,34|  12|   M|DUPONT-AIGNAN|Nicolas|   29| 2,57| 3,27|\n",
      "|                 01|                   Ain|                        04|         4ème circonscription|               005|  Ambérieux-en-Dombes|          0001|    1282|        234|    18,25|   1048|    81,75|    14|        1,09|        1,34|   6|      0,47|      0,57|    1028|    80,19|    98,09|        1|   F|ARTHAUD|Nathalie|   8|      0,62|      0,78|   2|   M|ROUSSEL|Fabien|  19|1,48|1,85|   3|   M|MACRON|Emmanuel| 279|21,76|27,14|   4|   M|LASSALLE|Jean|  24|1,87|2,33|   5|   F|LE PEN|Marine| 352|27,46|34,24|   6|   M|ZEMMOUR|Éric|  77|6,01| 7,49|   7|   M|MÉLENCHON|Jean-Luc| 137|10,69|13,33|   8|   F|HIDALGO|Anne|  14|1,09|1,36|   9|   M|JADOT|Yannick|  41|3,20|3,99|  10|   F|PÉCRESSE|Valérie|  48|3,74| 4,67|  11|   M|POUTOU|Philippe|   2|0,16|0,19|  12|   M|DUPONT-AIGNAN|Nicolas|   27| 2,11| 2,63|\n",
      "|                 01|                   Ain|                        03|         3ème circonscription|               006|              Ambléon|          0001|     103|         23|    22,33|     80|    77,67|     3|        2,91|        3,75|   0|      0,00|      0,00|      77|    74,76|    96,25|        1|   F|ARTHAUD|Nathalie|   0|      0,00|      0,00|   2|   M|ROUSSEL|Fabien|   6|5,83|7,79|   3|   M|MACRON|Emmanuel|  21|20,39|27,27|   4|   M|LASSALLE|Jean|   2|1,94|2,60|   5|   F|LE PEN|Marine|  16|15,53|20,78|   6|   M|ZEMMOUR|Éric|   3|2,91| 3,90|   7|   M|MÉLENCHON|Jean-Luc|  15|14,56|19,48|   8|   F|HIDALGO|Anne|   2|1,94|2,60|   9|   M|JADOT|Yannick|   2|1,94|2,60|  10|   F|PÉCRESSE|Valérie|   9|8,74|11,69|  11|   M|POUTOU|Philippe|   0|0,00|0,00|  12|   M|DUPONT-AIGNAN|Nicolas|    1| 0,97| 1,30|\n",
      "|                 01|                   Ain|                        05|         5ème circonscription|               007|             Ambronay|          0001|    1139|        186|    16,33|    953|    83,67|     4|        0,35|        0,42|  15|      1,32|      1,57|     934|    82,00|    98,01|        1|   F|ARTHAUD|Nathalie|   6|      0,53|      0,64|   2|   M|ROUSSEL|Fabien|  28|2,46|3,00|   3|   M|MACRON|Emmanuel| 248|21,77|26,55|   4|   M|LASSALLE|Jean|  32|2,81|3,43|   5|   F|LE PEN|Marine| 252|22,12|26,98|   6|   M|ZEMMOUR|Éric|  79|6,94| 8,46|   7|   M|MÉLENCHON|Jean-Luc| 166|14,57|17,77|   8|   F|HIDALGO|Anne|  18|1,58|1,93|   9|   M|JADOT|Yannick|  47|4,13|5,03|  10|   F|PÉCRESSE|Valérie|  41|3,60| 4,39|  11|   M|POUTOU|Philippe|   3|0,26|0,32|  12|   M|DUPONT-AIGNAN|Nicolas|   14| 1,23| 1,50|\n",
      "|                 01|                   Ain|                        05|         5ème circonscription|               007|             Ambronay|          0002|     892|        152|    17,04|    740|    82,96|    13|        1,46|        1,76|   2|      0,22|      0,27|     725|    81,28|    97,97|        1|   F|ARTHAUD|Nathalie|   4|      0,45|      0,55|   2|   M|ROUSSEL|Fabien|  18|2,02|2,48|   3|   M|MACRON|Emmanuel| 155|17,38|21,38|   4|   M|LASSALLE|Jean|  28|3,14|3,86|   5|   F|LE PEN|Marine| 247|27,69|34,07|   6|   M|ZEMMOUR|Éric|  62|6,95| 8,55|   7|   M|MÉLENCHON|Jean-Luc| 110|12,33|15,17|   8|   F|HIDALGO|Anne|  13|1,46|1,79|   9|   M|JADOT|Yannick|  22|2,47|3,03|  10|   F|PÉCRESSE|Valérie|  36|4,04| 4,97|  11|   M|POUTOU|Philippe|   5|0,56|0,69|  12|   M|DUPONT-AIGNAN|Nicolas|   25| 2,80| 3,45|\n",
      "|                 01|                   Ain|                        02|         2ème circonscription|               008|             Ambutrix|          0001|     554|         80|    14,44|    474|    85,56|    10|        1,81|        2,11|   1|      0,18|      0,21|     463|    83,57|    97,68|        1|   F|ARTHAUD|Nathalie|   2|      0,36|      0,43|   2|   M|ROUSSEL|Fabien|   8|1,44|1,73|   3|   M|MACRON|Emmanuel| 109|19,68|23,54|   4|   M|LASSALLE|Jean|  17|3,07|3,67|   5|   F|LE PEN|Marine| 152|27,44|32,83|   6|   M|ZEMMOUR|Éric|  31|5,60| 6,70|   7|   M|MÉLENCHON|Jean-Luc|  71|12,82|15,33|   8|   F|HIDALGO|Anne|   5|0,90|1,08|   9|   M|JADOT|Yannick|  22|3,97|4,75|  10|   F|PÉCRESSE|Valérie|  26|4,69| 5,62|  11|   M|POUTOU|Philippe|   6|1,08|1,30|  12|   M|DUPONT-AIGNAN|Nicolas|   14| 2,53| 3,02|\n",
      "|                 01|                   Ain|                        03|         3ème circonscription|               009|     Andert-et-Condon|          0001|     279|         48|    17,20|    231|    82,80|     3|        1,08|        1,30|   0|      0,00|      0,00|     228|    81,72|    98,70|        1|   F|ARTHAUD|Nathalie|   1|      0,36|      0,44|   2|   M|ROUSSEL|Fabien|   6|2,15|2,63|   3|   M|MACRON|Emmanuel|  63|22,58|27,63|   4|   M|LASSALLE|Jean|   6|2,15|2,63|   5|   F|LE PEN|Marine|  46|16,49|20,18|   6|   M|ZEMMOUR|Éric|  17|6,09| 7,46|   7|   M|MÉLENCHON|Jean-Luc|  54|19,35|23,68|   8|   F|HIDALGO|Anne|   2|0,72|0,88|   9|   M|JADOT|Yannick|   9|3,23|3,95|  10|   F|PÉCRESSE|Valérie|  17|6,09| 7,46|  11|   M|POUTOU|Philippe|   3|1,08|1,32|  12|   M|DUPONT-AIGNAN|Nicolas|    4| 1,43| 1,75|\n",
      "|                 01|                   Ain|                        03|         3ème circonscription|               010|            Anglefort|          0001|     792|        168|    21,21|    624|    78,79|    10|        1,26|        1,60|   6|      0,76|      0,96|     608|    76,77|    97,44|        1|   F|ARTHAUD|Nathalie|   5|      0,63|      0,82|   2|   M|ROUSSEL|Fabien|   9|1,14|1,48|   3|   M|MACRON|Emmanuel| 125|15,78|20,56|   4|   M|LASSALLE|Jean|  38|4,80|6,25|   5|   F|LE PEN|Marine| 225|28,41|37,01|   6|   M|ZEMMOUR|Éric|  39|4,92| 6,41|   7|   M|MÉLENCHON|Jean-Luc|  88|11,11|14,47|   8|   F|HIDALGO|Anne|   8|1,01|1,32|   9|   M|JADOT|Yannick|  15|1,89|2,47|  10|   F|PÉCRESSE|Valérie|  19|2,40| 3,13|  11|   M|POUTOU|Philippe|   5|0,63|0,82|  12|   M|DUPONT-AIGNAN|Nicolas|   32| 4,04| 5,26|\n",
      "|                 01|                   Ain|                        05|         5ème circonscription|               011|             Apremont|          0001|     287|         44|    15,33|    243|    84,67|     7|        2,44|        2,88|   0|      0,00|      0,00|     236|    82,23|    97,12|        1|   F|ARTHAUD|Nathalie|   0|      0,00|      0,00|   2|   M|ROUSSEL|Fabien|   4|1,39|1,69|   3|   M|MACRON|Emmanuel|  45|15,68|19,07|   4|   M|LASSALLE|Jean|  19|6,62|8,05|   5|   F|LE PEN|Marine|  65|22,65|27,54|   6|   M|ZEMMOUR|Éric|  27|9,41|11,44|   7|   M|MÉLENCHON|Jean-Luc|  36|12,54|15,25|   8|   F|HIDALGO|Anne|   1|0,35|0,42|   9|   M|JADOT|Yannick|  17|5,92|7,20|  10|   F|PÉCRESSE|Valérie|  14|4,88| 5,93|  11|   M|POUTOU|Philippe|   2|0,70|0,85|  12|   M|DUPONT-AIGNAN|Nicolas|    6| 2,09| 2,54|\n",
      "|                 01|                   Ain|                        05|         5ème circonscription|               012|                Aranc|          0001|     283|         62|    21,91|    221|    78,09|     1|        0,35|        0,45|   0|      0,00|      0,00|     220|    77,74|    99,55|        1|   F|ARTHAUD|Nathalie|   4|      1,41|      1,82|   2|   M|ROUSSEL|Fabien|   6|2,12|2,73|   3|   M|MACRON|Emmanuel|  51|18,02|23,18|   4|   M|LASSALLE|Jean|   9|3,18|4,09|   5|   F|LE PEN|Marine|  54|19,08|24,55|   6|   M|ZEMMOUR|Éric|  13|4,59| 5,91|   7|   M|MÉLENCHON|Jean-Luc|  59|20,85|26,82|   8|   F|HIDALGO|Anne|   2|0,71|0,91|   9|   M|JADOT|Yannick|  10|3,53|4,55|  10|   F|PÉCRESSE|Valérie|   5|1,77| 2,27|  11|   M|POUTOU|Philippe|   3|1,06|1,36|  12|   M|DUPONT-AIGNAN|Nicolas|    4| 1,41| 1,82|\n",
      "+-------------------+----------------------+--------------------------+-----------------------------+------------------+---------------------+--------------+--------+-----------+---------+-------+---------+------+------------+------------+----+----------+----------+--------+---------+---------+---------+----+-------+--------+----+----------+----------+----+----+-------+------+----+----+----+----+----+------+--------+----+-----+-----+----+----+--------+----+----+----+----+----+----+------+------+----+-----+-----+----+----+-------+----+----+----+-----+----+----+---------+--------+----+-----+-----+----+----+-------+----+----+----+----+----+----+-----+-------+----+----+----+----+----+--------+-------+----+----+-----+----+----+------+--------+----+----+----+----+----+-------------+-------+-----+-----+-----+\n",
      "only showing top 20 rows\n",
      "\n"
     ]
    }
   ],
   "source": [
    "filepath = \"/home/gildas/Bureau/ECE/data/1Tour2022.csv\"\n",
    "tab = []\n",
    "df = pd.read_csv(filepath,encoding=\"latin1\", sep=\";\")\n",
    "tab = df.columns.to_list()\n",
    "\n",
    "names = []\n",
    "i = 28\n",
    "x = 28\n",
    "while x < 105 : \n",
    "    names.append(\"_c\"+str(i))\n",
    "    i = i + 1\n",
    "    x = x + 1\n",
    "\n",
    "schematemp = tab + names\n",
    "schema = T.StructType()\n",
    "for x in schematemp: \n",
    "    schema.add(x, T.StringType(), True)\n",
    "\n",
    "df = spark.read.option(\"encoding\", \"latin1\").schema(schema).options(delimiter=\";\").csv(filepath)\n",
    "df = df.withColumnRenamed(\"Code du b.vote\",\"Code du b_vote\")\n",
    "df.show()"
   ]
  },
  {
   "cell_type": "code",
   "execution_count": 6,
   "metadata": {},
   "outputs": [
    {
     "name": "stdout",
     "output_type": "stream",
     "text": [
      "+-------------------+--------------------------+------------------+--------------+--------+-----------+-------+------+----+--------+---------+----+-------+--------+----+-------+------+----+------+--------+----+--------+----+----+------+------+----+-------+----+----+---------+--------+----+-------+----+----+-----+-------+----+--------+-------+----+------+--------+----+-------------+-------+-----+-----+\n",
      "|Code du département|Code de la circonscription|Code de la commune|Code du b_vote|Inscrits|Abstentions|Votants|Blancs|Nuls|Exprimés|N°Panneau|Sexe|    Nom|  Prénom|Voix|   _c30|  _c31|_c32|  _c37|    _c38|_c39|    _c44|_c45|_c46|  _c51|  _c52|_c53|   _c58|_c59|_c60|     _c65|    _c66|_c67|   _c72|_c73|_c74| _c79|   _c80|_c81|    _c86|   _c87|_c88|  _c93|    _c94|_c95|        _c100|  _c101|_c102|_c104|\n",
      "+-------------------+--------------------------+------------------+--------------+--------+-----------+-------+------+----+--------+---------+----+-------+--------+----+-------+------+----+------+--------+----+--------+----+----+------+------+----+-------+----+----+---------+--------+----+-------+----+----+-----+-------+----+--------+-------+----+------+--------+----+-------------+-------+-----+-----+\n",
      "|Code du département|      Code de la circon...|Code de la commune|Code du b.vote|Inscrits|Abstentions|Votants|Blancs|Nuls|Exprimés|N°Panneau|Sexe|    Nom|  Prénom|Voix|   null|  null|null|  null|    null|null|    null|null|null|  null|  null|null|   null|null|null|     null|    null|null|   null|null|null| null|   null|null|    null|   null|null|  null|    null|null|         null|   null| null| null|\n",
      "|                 01|                        04|               001|          0001|     645|        108|    537|    16|   1|     520|        1|   F|ARTHAUD|Nathalie|   3|ROUSSEL|Fabien|   6|MACRON|Emmanuel| 150|LASSALLE|Jean|  18|LE PEN|Marine| 149|ZEMMOUR|Éric|  43|MÉLENCHON|Jean-Luc|  66|HIDALGO|Anne|   5|JADOT|Yannick|  30|PÉCRESSE|Valérie|  26|POUTOU|Philippe|   3|DUPONT-AIGNAN|Nicolas|   21| 4,04|\n",
      "|                 01|                        05|               002|          0001|     213|         38|    175|     3|   1|     171|        1|   F|ARTHAUD|Nathalie|   2|ROUSSEL|Fabien|   7|MACRON|Emmanuel|  50|LASSALLE|Jean|  10|LE PEN|Marine|  23|ZEMMOUR|Éric|  14|MÉLENCHON|Jean-Luc|  41|HIDALGO|Anne|   3|JADOT|Yannick|  10|PÉCRESSE|Valérie|   8|POUTOU|Philippe|   3|DUPONT-AIGNAN|Nicolas|    0| 0,00|\n",
      "|                 01|                        05|               004|          0001|    1129|        266|    863|    18|   5|     840|        1|   F|ARTHAUD|Nathalie|   4|ROUSSEL|Fabien|  30|MACRON|Emmanuel| 159|LASSALLE|Jean|  24|LE PEN|Marine| 237|ZEMMOUR|Éric|  69|MÉLENCHON|Jean-Luc| 216|HIDALGO|Anne|  15|JADOT|Yannick|  25|PÉCRESSE|Valérie|  40|POUTOU|Philippe|   8|DUPONT-AIGNAN|Nicolas|   13| 1,55|\n",
      "|                 01|                        05|               004|          0002|    1128|        265|    863|    15|   6|     842|        1|   F|ARTHAUD|Nathalie|   6|ROUSSEL|Fabien|  13|MACRON|Emmanuel| 201|LASSALLE|Jean|  19|LE PEN|Marine| 210|ZEMMOUR|Éric|  68|MÉLENCHON|Jean-Luc| 194|HIDALGO|Anne|  19|JADOT|Yannick|  46|PÉCRESSE|Valérie|  42|POUTOU|Philippe|   4|DUPONT-AIGNAN|Nicolas|   20| 2,38|\n",
      "|                 01|                        05|               004|          0003|    1213|        246|    967|    10|   8|     949|        1|   F|ARTHAUD|Nathalie|   8|ROUSSEL|Fabien|  18|MACRON|Emmanuel| 229|LASSALLE|Jean|  28|LE PEN|Marine| 227|ZEMMOUR|Éric|  74|MÉLENCHON|Jean-Luc| 227|HIDALGO|Anne|  16|JADOT|Yannick|  65|PÉCRESSE|Valérie|  35|POUTOU|Philippe|   3|DUPONT-AIGNAN|Nicolas|   19| 2,00|\n",
      "|                 01|                        05|               004|          0004|     933|        224|    709|     8|   4|     697|        1|   F|ARTHAUD|Nathalie|   4|ROUSSEL|Fabien|  21|MACRON|Emmanuel| 156|LASSALLE|Jean|  16|LE PEN|Marine| 172|ZEMMOUR|Éric|  40|MÉLENCHON|Jean-Luc| 202|HIDALGO|Anne|   8|JADOT|Yannick|  15|PÉCRESSE|Valérie|  33|POUTOU|Philippe|   4|DUPONT-AIGNAN|Nicolas|   26| 3,73|\n",
      "|                 01|                        05|               004|          0005|    1047|        324|    723|    11|   5|     707|        1|   F|ARTHAUD|Nathalie|   7|ROUSSEL|Fabien|  22|MACRON|Emmanuel| 132|LASSALLE|Jean|  19|LE PEN|Marine| 178|ZEMMOUR|Éric|  46|MÉLENCHON|Jean-Luc| 226|HIDALGO|Anne|   6|JADOT|Yannick|  24|PÉCRESSE|Valérie|  23|POUTOU|Philippe|   8|DUPONT-AIGNAN|Nicolas|   16| 2,26|\n",
      "|                 01|                        05|               004|          0006|    1152|        278|    874|     8|  10|     856|        1|   F|ARTHAUD|Nathalie|   4|ROUSSEL|Fabien|  24|MACRON|Emmanuel| 175|LASSALLE|Jean|  20|LE PEN|Marine| 207|ZEMMOUR|Éric|  67|MÉLENCHON|Jean-Luc| 210|HIDALGO|Anne|  18|JADOT|Yannick|  51|PÉCRESSE|Valérie|  43|POUTOU|Philippe|   8|DUPONT-AIGNAN|Nicolas|   29| 3,39|\n",
      "|                 01|                        05|               004|          0007|    1034|        247|    787|     9|   2|     776|        1|   F|ARTHAUD|Nathalie|   3|ROUSSEL|Fabien|  22|MACRON|Emmanuel| 189|LASSALLE|Jean|  19|LE PEN|Marine| 188|ZEMMOUR|Éric|  74|MÉLENCHON|Jean-Luc| 159|HIDALGO|Anne|  10|JADOT|Yannick|  33|PÉCRESSE|Valérie|  45|POUTOU|Philippe|   5|DUPONT-AIGNAN|Nicolas|   29| 3,74|\n",
      "|                 01|                        05|               004|          0008|    1129|        228|    901|     9|   6|     886|        1|   F|ARTHAUD|Nathalie|   2|ROUSSEL|Fabien|  23|MACRON|Emmanuel| 212|LASSALLE|Jean|  32|LE PEN|Marine| 227|ZEMMOUR|Éric|  92|MÉLENCHON|Jean-Luc| 170|HIDALGO|Anne|  20|JADOT|Yannick|  28|PÉCRESSE|Valérie|  48|POUTOU|Philippe|   3|DUPONT-AIGNAN|Nicolas|   29| 3,27|\n",
      "|                 01|                        04|               005|          0001|    1282|        234|   1048|    14|   6|    1028|        1|   F|ARTHAUD|Nathalie|   8|ROUSSEL|Fabien|  19|MACRON|Emmanuel| 279|LASSALLE|Jean|  24|LE PEN|Marine| 352|ZEMMOUR|Éric|  77|MÉLENCHON|Jean-Luc| 137|HIDALGO|Anne|  14|JADOT|Yannick|  41|PÉCRESSE|Valérie|  48|POUTOU|Philippe|   2|DUPONT-AIGNAN|Nicolas|   27| 2,63|\n",
      "|                 01|                        03|               006|          0001|     103|         23|     80|     3|   0|      77|        1|   F|ARTHAUD|Nathalie|   0|ROUSSEL|Fabien|   6|MACRON|Emmanuel|  21|LASSALLE|Jean|   2|LE PEN|Marine|  16|ZEMMOUR|Éric|   3|MÉLENCHON|Jean-Luc|  15|HIDALGO|Anne|   2|JADOT|Yannick|   2|PÉCRESSE|Valérie|   9|POUTOU|Philippe|   0|DUPONT-AIGNAN|Nicolas|    1| 1,30|\n",
      "|                 01|                        05|               007|          0001|    1139|        186|    953|     4|  15|     934|        1|   F|ARTHAUD|Nathalie|   6|ROUSSEL|Fabien|  28|MACRON|Emmanuel| 248|LASSALLE|Jean|  32|LE PEN|Marine| 252|ZEMMOUR|Éric|  79|MÉLENCHON|Jean-Luc| 166|HIDALGO|Anne|  18|JADOT|Yannick|  47|PÉCRESSE|Valérie|  41|POUTOU|Philippe|   3|DUPONT-AIGNAN|Nicolas|   14| 1,50|\n",
      "|                 01|                        05|               007|          0002|     892|        152|    740|    13|   2|     725|        1|   F|ARTHAUD|Nathalie|   4|ROUSSEL|Fabien|  18|MACRON|Emmanuel| 155|LASSALLE|Jean|  28|LE PEN|Marine| 247|ZEMMOUR|Éric|  62|MÉLENCHON|Jean-Luc| 110|HIDALGO|Anne|  13|JADOT|Yannick|  22|PÉCRESSE|Valérie|  36|POUTOU|Philippe|   5|DUPONT-AIGNAN|Nicolas|   25| 3,45|\n",
      "|                 01|                        02|               008|          0001|     554|         80|    474|    10|   1|     463|        1|   F|ARTHAUD|Nathalie|   2|ROUSSEL|Fabien|   8|MACRON|Emmanuel| 109|LASSALLE|Jean|  17|LE PEN|Marine| 152|ZEMMOUR|Éric|  31|MÉLENCHON|Jean-Luc|  71|HIDALGO|Anne|   5|JADOT|Yannick|  22|PÉCRESSE|Valérie|  26|POUTOU|Philippe|   6|DUPONT-AIGNAN|Nicolas|   14| 3,02|\n",
      "|                 01|                        03|               009|          0001|     279|         48|    231|     3|   0|     228|        1|   F|ARTHAUD|Nathalie|   1|ROUSSEL|Fabien|   6|MACRON|Emmanuel|  63|LASSALLE|Jean|   6|LE PEN|Marine|  46|ZEMMOUR|Éric|  17|MÉLENCHON|Jean-Luc|  54|HIDALGO|Anne|   2|JADOT|Yannick|   9|PÉCRESSE|Valérie|  17|POUTOU|Philippe|   3|DUPONT-AIGNAN|Nicolas|    4| 1,75|\n",
      "|                 01|                        03|               010|          0001|     792|        168|    624|    10|   6|     608|        1|   F|ARTHAUD|Nathalie|   5|ROUSSEL|Fabien|   9|MACRON|Emmanuel| 125|LASSALLE|Jean|  38|LE PEN|Marine| 225|ZEMMOUR|Éric|  39|MÉLENCHON|Jean-Luc|  88|HIDALGO|Anne|   8|JADOT|Yannick|  15|PÉCRESSE|Valérie|  19|POUTOU|Philippe|   5|DUPONT-AIGNAN|Nicolas|   32| 5,26|\n",
      "|                 01|                        05|               011|          0001|     287|         44|    243|     7|   0|     236|        1|   F|ARTHAUD|Nathalie|   0|ROUSSEL|Fabien|   4|MACRON|Emmanuel|  45|LASSALLE|Jean|  19|LE PEN|Marine|  65|ZEMMOUR|Éric|  27|MÉLENCHON|Jean-Luc|  36|HIDALGO|Anne|   1|JADOT|Yannick|  17|PÉCRESSE|Valérie|  14|POUTOU|Philippe|   2|DUPONT-AIGNAN|Nicolas|    6| 2,54|\n",
      "|                 01|                        05|               012|          0001|     283|         62|    221|     1|   0|     220|        1|   F|ARTHAUD|Nathalie|   4|ROUSSEL|Fabien|   6|MACRON|Emmanuel|  51|LASSALLE|Jean|   9|LE PEN|Marine|  54|ZEMMOUR|Éric|  13|MÉLENCHON|Jean-Luc|  59|HIDALGO|Anne|   2|JADOT|Yannick|  10|PÉCRESSE|Valérie|   5|POUTOU|Philippe|   3|DUPONT-AIGNAN|Nicolas|    4| 1,82|\n",
      "+-------------------+--------------------------+------------------+--------------+--------+-----------+-------+------+----+--------+---------+----+-------+--------+----+-------+------+----+------+--------+----+--------+----+----+------+------+----+-------+----+----+---------+--------+----+-------+----+----+-----+-------+----+--------+-------+----+------+--------+----+-------------+-------+-----+-----+\n",
      "only showing top 20 rows\n",
      "\n"
     ]
    }
   ],
   "source": [
    "# Je supprime toutes les columns dont j'ai pas besoins\n",
    "# On a les libellé dont on a pas besoins vue qu'on a leur code\n",
    "# Les colonnes avec les pourcentages on peut les calculer par nous même\n",
    "\n",
    "delete = []\n",
    "\n",
    "df = df.drop(df.colRegex(\"`^*%*`\"))\n",
    "for col in df.columns : \n",
    "  if \"%\" in col : delete.append(col)\n",
    "  if \"Libellé\" in col : delete.append(col)\n",
    "\n",
    "for y in delete :\n",
    "  df = df.drop(y)\n",
    "\n",
    "# pour supprimer les pourcentages des colonnes unnamed\n",
    "\n",
    "i = 28\n",
    "x = 2\n",
    "while (i < 104) :\n",
    "  df = df.drop(F.col(\"_c\"+str(i)))\n",
    "  x = x + 1\n",
    "  if (x == 4) :\n",
    "    i = i + 3\n",
    "    x = 0\n",
    "  i = i + 1\n",
    "\n",
    "df.show()"
   ]
  },
  {
   "cell_type": "code",
   "execution_count": 7,
   "metadata": {},
   "outputs": [
    {
     "name": "stdout",
     "output_type": "stream",
     "text": [
      "+--------+-----------+-------+------+----+--------+---------+----+-------+--------+----+-------+------+----+------+--------+----+--------+----+----+------+------+----+-------+----+----+---------+--------+----+-------+----+----+-----+-------+----+--------+-------+----+------+--------+----+-------------+-------+-----+-----+--------------------+\n",
      "|Inscrits|Abstentions|Votants|Blancs|Nuls|Exprimés|N°Panneau|Sexe|    Nom|  Prénom|Voix|   _c30|  _c31|_c32|  _c37|    _c38|_c39|    _c44|_c45|_c46|  _c51|  _c52|_c53|   _c58|_c59|_c60|     _c65|    _c66|_c67|   _c72|_c73|_c74| _c79|   _c80|_c81|    _c86|   _c87|_c88|  _c93|    _c94|_c95|        _c100|  _c101|_c102|_c104|               Code1|\n",
      "+--------+-----------+-------+------+----+--------+---------+----+-------+--------+----+-------+------+----+------+--------+----+--------+----+----+------+------+----+-------+----+----+---------+--------+----+-------+----+----+-----+-------+----+--------+-------+----+------+--------+----+-------------+-------+-----+-----+--------------------+\n",
      "|Inscrits|Abstentions|Votants|Blancs|Nuls|Exprimés|N°Panneau|Sexe|    Nom|  Prénom|Voix|   null|  null|null|  null|    null|null|    null|null|null|  null|  null|null|   null|null|null|     null|    null|null|   null|null|null| null|   null|null|    null|   null|null|  null|    null|null|         null|   null| null| null|Code du départeme...|\n",
      "|     645|        108|    537|    16|   1|     520|        1|   F|ARTHAUD|Nathalie|   3|ROUSSEL|Fabien|   6|MACRON|Emmanuel| 150|LASSALLE|Jean|  18|LE PEN|Marine| 149|ZEMMOUR|Éric|  43|MÉLENCHON|Jean-Luc|  66|HIDALGO|Anne|   5|JADOT|Yannick|  30|PÉCRESSE|Valérie|  26|POUTOU|Philippe|   3|DUPONT-AIGNAN|Nicolas|   21| 4,04|      01/04/001/0001|\n",
      "|     213|         38|    175|     3|   1|     171|        1|   F|ARTHAUD|Nathalie|   2|ROUSSEL|Fabien|   7|MACRON|Emmanuel|  50|LASSALLE|Jean|  10|LE PEN|Marine|  23|ZEMMOUR|Éric|  14|MÉLENCHON|Jean-Luc|  41|HIDALGO|Anne|   3|JADOT|Yannick|  10|PÉCRESSE|Valérie|   8|POUTOU|Philippe|   3|DUPONT-AIGNAN|Nicolas|    0| 0,00|      01/05/002/0001|\n",
      "|    1129|        266|    863|    18|   5|     840|        1|   F|ARTHAUD|Nathalie|   4|ROUSSEL|Fabien|  30|MACRON|Emmanuel| 159|LASSALLE|Jean|  24|LE PEN|Marine| 237|ZEMMOUR|Éric|  69|MÉLENCHON|Jean-Luc| 216|HIDALGO|Anne|  15|JADOT|Yannick|  25|PÉCRESSE|Valérie|  40|POUTOU|Philippe|   8|DUPONT-AIGNAN|Nicolas|   13| 1,55|      01/05/004/0001|\n",
      "|    1128|        265|    863|    15|   6|     842|        1|   F|ARTHAUD|Nathalie|   6|ROUSSEL|Fabien|  13|MACRON|Emmanuel| 201|LASSALLE|Jean|  19|LE PEN|Marine| 210|ZEMMOUR|Éric|  68|MÉLENCHON|Jean-Luc| 194|HIDALGO|Anne|  19|JADOT|Yannick|  46|PÉCRESSE|Valérie|  42|POUTOU|Philippe|   4|DUPONT-AIGNAN|Nicolas|   20| 2,38|      01/05/004/0002|\n",
      "|    1213|        246|    967|    10|   8|     949|        1|   F|ARTHAUD|Nathalie|   8|ROUSSEL|Fabien|  18|MACRON|Emmanuel| 229|LASSALLE|Jean|  28|LE PEN|Marine| 227|ZEMMOUR|Éric|  74|MÉLENCHON|Jean-Luc| 227|HIDALGO|Anne|  16|JADOT|Yannick|  65|PÉCRESSE|Valérie|  35|POUTOU|Philippe|   3|DUPONT-AIGNAN|Nicolas|   19| 2,00|      01/05/004/0003|\n",
      "|     933|        224|    709|     8|   4|     697|        1|   F|ARTHAUD|Nathalie|   4|ROUSSEL|Fabien|  21|MACRON|Emmanuel| 156|LASSALLE|Jean|  16|LE PEN|Marine| 172|ZEMMOUR|Éric|  40|MÉLENCHON|Jean-Luc| 202|HIDALGO|Anne|   8|JADOT|Yannick|  15|PÉCRESSE|Valérie|  33|POUTOU|Philippe|   4|DUPONT-AIGNAN|Nicolas|   26| 3,73|      01/05/004/0004|\n",
      "|    1047|        324|    723|    11|   5|     707|        1|   F|ARTHAUD|Nathalie|   7|ROUSSEL|Fabien|  22|MACRON|Emmanuel| 132|LASSALLE|Jean|  19|LE PEN|Marine| 178|ZEMMOUR|Éric|  46|MÉLENCHON|Jean-Luc| 226|HIDALGO|Anne|   6|JADOT|Yannick|  24|PÉCRESSE|Valérie|  23|POUTOU|Philippe|   8|DUPONT-AIGNAN|Nicolas|   16| 2,26|      01/05/004/0005|\n",
      "|    1152|        278|    874|     8|  10|     856|        1|   F|ARTHAUD|Nathalie|   4|ROUSSEL|Fabien|  24|MACRON|Emmanuel| 175|LASSALLE|Jean|  20|LE PEN|Marine| 207|ZEMMOUR|Éric|  67|MÉLENCHON|Jean-Luc| 210|HIDALGO|Anne|  18|JADOT|Yannick|  51|PÉCRESSE|Valérie|  43|POUTOU|Philippe|   8|DUPONT-AIGNAN|Nicolas|   29| 3,39|      01/05/004/0006|\n",
      "|    1034|        247|    787|     9|   2|     776|        1|   F|ARTHAUD|Nathalie|   3|ROUSSEL|Fabien|  22|MACRON|Emmanuel| 189|LASSALLE|Jean|  19|LE PEN|Marine| 188|ZEMMOUR|Éric|  74|MÉLENCHON|Jean-Luc| 159|HIDALGO|Anne|  10|JADOT|Yannick|  33|PÉCRESSE|Valérie|  45|POUTOU|Philippe|   5|DUPONT-AIGNAN|Nicolas|   29| 3,74|      01/05/004/0007|\n",
      "|    1129|        228|    901|     9|   6|     886|        1|   F|ARTHAUD|Nathalie|   2|ROUSSEL|Fabien|  23|MACRON|Emmanuel| 212|LASSALLE|Jean|  32|LE PEN|Marine| 227|ZEMMOUR|Éric|  92|MÉLENCHON|Jean-Luc| 170|HIDALGO|Anne|  20|JADOT|Yannick|  28|PÉCRESSE|Valérie|  48|POUTOU|Philippe|   3|DUPONT-AIGNAN|Nicolas|   29| 3,27|      01/05/004/0008|\n",
      "|    1282|        234|   1048|    14|   6|    1028|        1|   F|ARTHAUD|Nathalie|   8|ROUSSEL|Fabien|  19|MACRON|Emmanuel| 279|LASSALLE|Jean|  24|LE PEN|Marine| 352|ZEMMOUR|Éric|  77|MÉLENCHON|Jean-Luc| 137|HIDALGO|Anne|  14|JADOT|Yannick|  41|PÉCRESSE|Valérie|  48|POUTOU|Philippe|   2|DUPONT-AIGNAN|Nicolas|   27| 2,63|      01/04/005/0001|\n",
      "|     103|         23|     80|     3|   0|      77|        1|   F|ARTHAUD|Nathalie|   0|ROUSSEL|Fabien|   6|MACRON|Emmanuel|  21|LASSALLE|Jean|   2|LE PEN|Marine|  16|ZEMMOUR|Éric|   3|MÉLENCHON|Jean-Luc|  15|HIDALGO|Anne|   2|JADOT|Yannick|   2|PÉCRESSE|Valérie|   9|POUTOU|Philippe|   0|DUPONT-AIGNAN|Nicolas|    1| 1,30|      01/03/006/0001|\n",
      "|    1139|        186|    953|     4|  15|     934|        1|   F|ARTHAUD|Nathalie|   6|ROUSSEL|Fabien|  28|MACRON|Emmanuel| 248|LASSALLE|Jean|  32|LE PEN|Marine| 252|ZEMMOUR|Éric|  79|MÉLENCHON|Jean-Luc| 166|HIDALGO|Anne|  18|JADOT|Yannick|  47|PÉCRESSE|Valérie|  41|POUTOU|Philippe|   3|DUPONT-AIGNAN|Nicolas|   14| 1,50|      01/05/007/0001|\n",
      "|     892|        152|    740|    13|   2|     725|        1|   F|ARTHAUD|Nathalie|   4|ROUSSEL|Fabien|  18|MACRON|Emmanuel| 155|LASSALLE|Jean|  28|LE PEN|Marine| 247|ZEMMOUR|Éric|  62|MÉLENCHON|Jean-Luc| 110|HIDALGO|Anne|  13|JADOT|Yannick|  22|PÉCRESSE|Valérie|  36|POUTOU|Philippe|   5|DUPONT-AIGNAN|Nicolas|   25| 3,45|      01/05/007/0002|\n",
      "|     554|         80|    474|    10|   1|     463|        1|   F|ARTHAUD|Nathalie|   2|ROUSSEL|Fabien|   8|MACRON|Emmanuel| 109|LASSALLE|Jean|  17|LE PEN|Marine| 152|ZEMMOUR|Éric|  31|MÉLENCHON|Jean-Luc|  71|HIDALGO|Anne|   5|JADOT|Yannick|  22|PÉCRESSE|Valérie|  26|POUTOU|Philippe|   6|DUPONT-AIGNAN|Nicolas|   14| 3,02|      01/02/008/0001|\n",
      "|     279|         48|    231|     3|   0|     228|        1|   F|ARTHAUD|Nathalie|   1|ROUSSEL|Fabien|   6|MACRON|Emmanuel|  63|LASSALLE|Jean|   6|LE PEN|Marine|  46|ZEMMOUR|Éric|  17|MÉLENCHON|Jean-Luc|  54|HIDALGO|Anne|   2|JADOT|Yannick|   9|PÉCRESSE|Valérie|  17|POUTOU|Philippe|   3|DUPONT-AIGNAN|Nicolas|    4| 1,75|      01/03/009/0001|\n",
      "|     792|        168|    624|    10|   6|     608|        1|   F|ARTHAUD|Nathalie|   5|ROUSSEL|Fabien|   9|MACRON|Emmanuel| 125|LASSALLE|Jean|  38|LE PEN|Marine| 225|ZEMMOUR|Éric|  39|MÉLENCHON|Jean-Luc|  88|HIDALGO|Anne|   8|JADOT|Yannick|  15|PÉCRESSE|Valérie|  19|POUTOU|Philippe|   5|DUPONT-AIGNAN|Nicolas|   32| 5,26|      01/03/010/0001|\n",
      "|     287|         44|    243|     7|   0|     236|        1|   F|ARTHAUD|Nathalie|   0|ROUSSEL|Fabien|   4|MACRON|Emmanuel|  45|LASSALLE|Jean|  19|LE PEN|Marine|  65|ZEMMOUR|Éric|  27|MÉLENCHON|Jean-Luc|  36|HIDALGO|Anne|   1|JADOT|Yannick|  17|PÉCRESSE|Valérie|  14|POUTOU|Philippe|   2|DUPONT-AIGNAN|Nicolas|    6| 2,54|      01/05/011/0001|\n",
      "|     283|         62|    221|     1|   0|     220|        1|   F|ARTHAUD|Nathalie|   4|ROUSSEL|Fabien|   6|MACRON|Emmanuel|  51|LASSALLE|Jean|   9|LE PEN|Marine|  54|ZEMMOUR|Éric|  13|MÉLENCHON|Jean-Luc|  59|HIDALGO|Anne|   2|JADOT|Yannick|  10|PÉCRESSE|Valérie|   5|POUTOU|Philippe|   3|DUPONT-AIGNAN|Nicolas|    4| 1,82|      01/05/012/0001|\n",
      "+--------+-----------+-------+------+----+--------+---------+----+-------+--------+----+-------+------+----+------+--------+----+--------+----+----+------+------+----+-------+----+----+---------+--------+----+-------+----+----+-----+-------+----+--------+-------+----+------+--------+----+-------------+-------+-----+-----+--------------------+\n",
      "only showing top 20 rows\n",
      "\n"
     ]
    }
   ],
   "source": [
    "df = df.withColumn(\"Code\", F.concat( F.col(\"Code du département\"), F.lit(\"/\"),\\\n",
    "                                     F.col(\"Code de la circonscription\"), F.lit(\"/\"),\\\n",
    "                                     F.col(\"Code de la commune\"), F.lit(\"/\"),\\\n",
    "                                     F.col(\"Code du b_vote\")))\\\n",
    "       .withColumnRenamed(\"Code\",\"Code1\")\n",
    "\n",
    "df = df.drop(\"Code du département\",\"Code de la circonscription\",\"Code de la commune\",\"Code du b_vote\")\n",
    "df.show()"
   ]
  },
  {
   "cell_type": "code",
   "execution_count": 8,
   "metadata": {},
   "outputs": [
    {
     "name": "stderr",
     "output_type": "stream",
     "text": [
      "                                                                                \r"
     ]
    },
    {
     "data": {
      "text/plain": [
       "766513"
      ]
     },
     "execution_count": 8,
     "metadata": {},
     "output_type": "execute_result"
    }
   ],
   "source": [
    "df0 = df.select(\"Code1\",\"Nom\",\"Prénom\",\"Voix\")\n",
    "df1 = df.select(\"Code1\",\"_c30\",\"_c31\",\"_c32\")\\\n",
    "        .withColumnRenamed(\"_c30\",\"Nom\").withColumnRenamed(\"_c31\",\"Prénom\").withColumnRenamed(\"_c32\",\"Voix\")\n",
    "df2 = df.select(\"Code1\",\"_c37\",\"_c38\",\"_c39\")\\\n",
    "        .withColumnRenamed(\"_c37\",\"Nom\").withColumnRenamed(\"_c38\",\"Prénom\").withColumnRenamed(\"_c39\",\"Voix\")\n",
    "df3 = df.select(\"Code1\",\"_c44\",\"_c45\",\"_c46\")\\\n",
    "        .withColumnRenamed(\"_c44\",\"Nom\").withColumnRenamed(\"_c45\",\"Prénom\").withColumnRenamed(\"_c46\",\"Voix\")\n",
    "df4 = df.select(\"Code1\",\"_c51\",\"_c52\",\"_c53\")\\\n",
    "        .withColumnRenamed(\"_c51\",\"Nom\").withColumnRenamed(\"_c52\",\"Prénom\").withColumnRenamed(\"_c53\",\"Voix\")\n",
    "df5 = df.select(\"Code1\",\"_c58\",\"_c59\",\"_c60\")\\\n",
    "        .withColumnRenamed(\"_c58\",\"Nom\").withColumnRenamed(\"_c59\",\"Prénom\").withColumnRenamed(\"_c60\",\"Voix\")\n",
    "df6 = df.select(\"Code1\",\"_c65\",\"_c66\",\"_c67\")\\\n",
    "        .withColumnRenamed(\"_c65\",\"Nom\").withColumnRenamed(\"_c66\",\"Prénom\").withColumnRenamed(\"_c67\",\"Voix\")\n",
    "df7 = df.select(\"Code1\",\"_c72\",\"_c73\",\"_c74\")\\\n",
    "        .withColumnRenamed(\"_c72\",\"Nom\").withColumnRenamed(\"_c73\",\"Prénom\").withColumnRenamed(\"_c74\",\"Voix\")\n",
    "df8 = df.select(\"Code1\",\"_c79\",\"_c80\",\"_c81\")\\\n",
    "        .withColumnRenamed(\"_c79\",\"Nom\").withColumnRenamed(\"_c80\",\"Prénom\").withColumnRenamed(\"_c81\",\"Voix\")\n",
    "df9 = df.select(\"Code1\",\"_c86\",\"_c87\",\"_c88\")\\\n",
    "        .withColumnRenamed(\"_c86\",\"Nom\").withColumnRenamed(\"_c87\",\"Prénom\").withColumnRenamed(\"_c88\",\"Voix\")\n",
    "df10 = df.select(\"Code1\",\"_c93\",\"_c94\",\"_c95\")\\\n",
    "        .withColumnRenamed(\"_c93\",\"Nom\").withColumnRenamed(\"_c94\",\"Prénom\").withColumnRenamed(\"_c95\",\"Voix\")\n",
    "df11 = df.select(\"Code1\",\"_c100\",\"_c101\",\"_c102\")\n",
    "\n",
    "dfnew = df0.union(df1).union(df2).union(df3).union(df4).union(df5).union(df6).union(df7).union(df8).union(df9).union(df10)\n",
    "dfnew.count()\n"
   ]
  },
  {
   "cell_type": "code",
   "execution_count": 9,
   "metadata": {},
   "outputs": [
    {
     "name": "stderr",
     "output_type": "stream",
     "text": [
      "                                                                                \r"
     ]
    },
    {
     "name": "stdout",
     "output_type": "stream",
     "text": [
      "+--------------------+--------+-----------+-------+------+----+--------+-------+--------+----+\n",
      "|                Code|Inscrits|Abstentions|Votants|Blancs|Nuls|Exprimés|    Nom|  Prénom|Voix|\n",
      "+--------------------+--------+-----------+-------+------+----+--------+-------+--------+----+\n",
      "|Code du départeme...|Inscrits|Abstentions|Votants|Blancs|Nuls|Exprimés|    Nom|  Prénom|Voix|\n",
      "|      01/04/001/0001|     645|        108|    537|    16|   1|     520|ARTHAUD|Nathalie|   3|\n",
      "|      01/05/002/0001|     213|         38|    175|     3|   1|     171|ARTHAUD|Nathalie|   2|\n",
      "|      01/05/004/0001|    1129|        266|    863|    18|   5|     840|ARTHAUD|Nathalie|   4|\n",
      "|      01/05/004/0002|    1128|        265|    863|    15|   6|     842|ARTHAUD|Nathalie|   6|\n",
      "|      01/05/004/0003|    1213|        246|    967|    10|   8|     949|ARTHAUD|Nathalie|   8|\n",
      "|      01/05/004/0004|     933|        224|    709|     8|   4|     697|ARTHAUD|Nathalie|   4|\n",
      "|      01/05/004/0005|    1047|        324|    723|    11|   5|     707|ARTHAUD|Nathalie|   7|\n",
      "|      01/05/004/0006|    1152|        278|    874|     8|  10|     856|ARTHAUD|Nathalie|   4|\n",
      "|      01/05/004/0007|    1034|        247|    787|     9|   2|     776|ARTHAUD|Nathalie|   3|\n",
      "|      01/05/004/0008|    1129|        228|    901|     9|   6|     886|ARTHAUD|Nathalie|   2|\n",
      "|      01/04/005/0001|    1282|        234|   1048|    14|   6|    1028|ARTHAUD|Nathalie|   8|\n",
      "|      01/03/006/0001|     103|         23|     80|     3|   0|      77|ARTHAUD|Nathalie|   0|\n",
      "|      01/05/007/0001|    1139|        186|    953|     4|  15|     934|ARTHAUD|Nathalie|   6|\n",
      "|      01/05/007/0002|     892|        152|    740|    13|   2|     725|ARTHAUD|Nathalie|   4|\n",
      "|      01/02/008/0001|     554|         80|    474|    10|   1|     463|ARTHAUD|Nathalie|   2|\n",
      "|      01/03/009/0001|     279|         48|    231|     3|   0|     228|ARTHAUD|Nathalie|   1|\n",
      "|      01/03/010/0001|     792|        168|    624|    10|   6|     608|ARTHAUD|Nathalie|   5|\n",
      "|      01/05/011/0001|     287|         44|    243|     7|   0|     236|ARTHAUD|Nathalie|   0|\n",
      "|      01/05/012/0001|     283|         62|    221|     1|   0|     220|ARTHAUD|Nathalie|   4|\n",
      "+--------------------+--------+-----------+-------+------+----+--------+-------+--------+----+\n",
      "only showing top 20 rows\n",
      "\n"
     ]
    }
   ],
   "source": [
    "df = df.select(\"Code1\",\"Inscrits\",\"Abstentions\",\"Votants\",\"Blancs\",\"Nuls\",\"Exprimés\").withColumnRenamed(\"Code1\",\"Code\")\n",
    "df = df.join(dfnew, df.Code == dfnew.Code1 ,\"inner\").drop(\"Code1\")\n",
    "df.show()"
   ]
  },
  {
   "cell_type": "code",
   "execution_count": 10,
   "metadata": {},
   "outputs": [
    {
     "name": "stderr",
     "output_type": "stream",
     "text": [
      "[Stage 9:===================================================>     (30 + 3) / 33]\r"
     ]
    },
    {
     "name": "stdout",
     "output_type": "stream",
     "text": [
      "+--------------+--------+-----------+-------+------+----+--------+---------+--------+----+\n",
      "|          Code|Inscrits|Abstentions|Votants|Blancs|Nuls|Exprimés|      Nom|  Prénom|Voix|\n",
      "+--------------+--------+-----------+-------+------+----+--------+---------+--------+----+\n",
      "|01/01/016/0001|     325|         58|    267|     3|   1|     263|  ARTHAUD|Nathalie|   1|\n",
      "|01/01/016/0001|     325|         58|    267|     3|   1|     263|  HIDALGO|    Anne|  10|\n",
      "|01/01/016/0001|     325|         58|    267|     3|   1|     263|    JADOT| Yannick|  10|\n",
      "|01/01/016/0001|     325|         58|    267|     3|   1|     263| LASSALLE|    Jean|  10|\n",
      "|01/01/016/0001|     325|         58|    267|     3|   1|     263|   LE PEN|  Marine|  89|\n",
      "|01/01/016/0001|     325|         58|    267|     3|   1|     263|   MACRON|Emmanuel|  61|\n",
      "|01/01/016/0001|     325|         58|    267|     3|   1|     263|MÉLENCHON|Jean-Luc|  34|\n",
      "|01/01/016/0001|     325|         58|    267|     3|   1|     263|   POUTOU|Philippe|   0|\n",
      "|01/01/016/0001|     325|         58|    267|     3|   1|     263| PÉCRESSE| Valérie|  17|\n",
      "|01/01/016/0001|     325|         58|    267|     3|   1|     263|  ROUSSEL|  Fabien|   6|\n",
      "|01/01/016/0001|     325|         58|    267|     3|   1|     263|  ZEMMOUR|    Éric|  12|\n",
      "|01/01/024/0001|    1207|        214|    993|    17|   4|     972|  ARTHAUD|Nathalie|   3|\n",
      "|01/01/024/0001|    1207|        214|    993|    17|   4|     972|  HIDALGO|    Anne|  14|\n",
      "|01/01/024/0001|    1207|        214|    993|    17|   4|     972|    JADOT| Yannick|  42|\n",
      "|01/01/024/0001|    1207|        214|    993|    17|   4|     972| LASSALLE|    Jean|  25|\n",
      "|01/01/024/0001|    1207|        214|    993|    17|   4|     972|   LE PEN|  Marine| 290|\n",
      "|01/01/024/0001|    1207|        214|    993|    17|   4|     972|   MACRON|Emmanuel| 270|\n",
      "|01/01/024/0001|    1207|        214|    993|    17|   4|     972|MÉLENCHON|Jean-Luc| 164|\n",
      "|01/01/024/0001|    1207|        214|    993|    17|   4|     972|   POUTOU|Philippe|   5|\n",
      "|01/01/024/0001|    1207|        214|    993|    17|   4|     972| PÉCRESSE| Valérie|  57|\n",
      "+--------------+--------+-----------+-------+------+----+--------+---------+--------+----+\n",
      "only showing top 20 rows\n",
      "\n"
     ]
    },
    {
     "name": "stderr",
     "output_type": "stream",
     "text": [
      "                                                                                \r"
     ]
    }
   ],
   "source": [
    "df = df.orderBy(F.col(\"Code\"),F.col(\"Nom\"))\n",
    "df.show()"
   ]
  },
  {
   "cell_type": "code",
   "execution_count": 11,
   "metadata": {},
   "outputs": [
    {
     "name": "stderr",
     "output_type": "stream",
     "text": [
      "                                                                                \r"
     ]
    },
    {
     "name": "stdout",
     "output_type": "stream",
     "text": [
      "+----+-------------------+--------------------------+------------------+--------------+--------+-----------+-------+------+----+--------+---------+--------+----+\n",
      "|Tour|Code du département|Code de la circonscription|Code de la commune|Code du b_vote|Inscrits|Abstentions|Votants|Blancs|Nuls|Exprimés|      Nom|  Prénom|Voix|\n",
      "+----+-------------------+--------------------------+------------------+--------------+--------+-----------+-------+------+----+--------+---------+--------+----+\n",
      "|   1|                 01|                        01|               016|          0001|     325|         58|    267|     3|   1|     263|  ARTHAUD|Nathalie|   1|\n",
      "|   1|                 01|                        01|               016|          0001|     325|         58|    267|     3|   1|     263|  HIDALGO|    Anne|  10|\n",
      "|   1|                 01|                        01|               016|          0001|     325|         58|    267|     3|   1|     263|    JADOT| Yannick|  10|\n",
      "|   1|                 01|                        01|               016|          0001|     325|         58|    267|     3|   1|     263| LASSALLE|    Jean|  10|\n",
      "|   1|                 01|                        01|               016|          0001|     325|         58|    267|     3|   1|     263|   LE PEN|  Marine|  89|\n",
      "|   1|                 01|                        01|               016|          0001|     325|         58|    267|     3|   1|     263|   MACRON|Emmanuel|  61|\n",
      "|   1|                 01|                        01|               016|          0001|     325|         58|    267|     3|   1|     263|MÉLENCHON|Jean-Luc|  34|\n",
      "|   1|                 01|                        01|               016|          0001|     325|         58|    267|     3|   1|     263|   POUTOU|Philippe|   0|\n",
      "|   1|                 01|                        01|               016|          0001|     325|         58|    267|     3|   1|     263| PÉCRESSE| Valérie|  17|\n",
      "|   1|                 01|                        01|               016|          0001|     325|         58|    267|     3|   1|     263|  ROUSSEL|  Fabien|   6|\n",
      "|   1|                 01|                        01|               016|          0001|     325|         58|    267|     3|   1|     263|  ZEMMOUR|    Éric|  12|\n",
      "|   1|                 01|                        01|               024|          0001|    1207|        214|    993|    17|   4|     972|  ARTHAUD|Nathalie|   3|\n",
      "|   1|                 01|                        01|               024|          0001|    1207|        214|    993|    17|   4|     972|  HIDALGO|    Anne|  14|\n",
      "|   1|                 01|                        01|               024|          0001|    1207|        214|    993|    17|   4|     972|    JADOT| Yannick|  42|\n",
      "|   1|                 01|                        01|               024|          0001|    1207|        214|    993|    17|   4|     972| LASSALLE|    Jean|  25|\n",
      "|   1|                 01|                        01|               024|          0001|    1207|        214|    993|    17|   4|     972|   LE PEN|  Marine| 290|\n",
      "|   1|                 01|                        01|               024|          0001|    1207|        214|    993|    17|   4|     972|   MACRON|Emmanuel| 270|\n",
      "|   1|                 01|                        01|               024|          0001|    1207|        214|    993|    17|   4|     972|MÉLENCHON|Jean-Luc| 164|\n",
      "|   1|                 01|                        01|               024|          0001|    1207|        214|    993|    17|   4|     972|   POUTOU|Philippe|   5|\n",
      "|   1|                 01|                        01|               024|          0001|    1207|        214|    993|    17|   4|     972| PÉCRESSE| Valérie|  57|\n",
      "+----+-------------------+--------------------------+------------------+--------------+--------+-----------+-------+------+----+--------+---------+--------+----+\n",
      "only showing top 20 rows\n",
      "\n"
     ]
    }
   ],
   "source": [
    "df = df.withColumn(\"Tour\", lit(1))\\\n",
    "       .withColumn('Code du département', F.split(F.col(\"Code\"), '/').getItem(0)) \\\n",
    "       .withColumn('Code de la circonscription', F.split(F.col(\"Code\"), '/').getItem(1)) \\\n",
    "       .withColumn('Code de la commune', F.split(F.col(\"Code\"), '/').getItem(2))\\\n",
    "       .withColumn('Code du b_vote', F.split(F.col(\"Code\"), '/').getItem(3))\\\n",
    "       .drop(\"Code\")\n",
    "\n",
    "df = df.select(\"Tour\",\"Code du département\",\"Code de la circonscription\",\"Code de la commune\",\"Code du b_vote\",\\\n",
    "          \"Inscrits\",\"Abstentions\",\"Votants\",\"Blancs\",\"Nuls\",\"Exprimés\",\"Nom\",\"Prénom\",\"Voix\")\n",
    "\n",
    "df.show()\n",
    "# Add ranking \n",
    "# df = df"
   ]
  },
  {
   "cell_type": "code",
   "execution_count": 16,
   "metadata": {},
   "outputs": [
    {
     "name": "stderr",
     "output_type": "stream",
     "text": [
      "[Stage 23:==================================================>     (30 + 3) / 33]\r"
     ]
    },
    {
     "name": "stdout",
     "output_type": "stream",
     "text": [
      "+----+-------------------+--------------------------+------------------+--------------+--------+-----------+-------+------+----+--------+---------+--------+----+\n",
      "|Tour|Code du département|Code de la circonscription|Code de la commune|Code du b_vote|Inscrits|Abstentions|Votants|Blancs|Nuls|Exprimés|      Nom|  Prénom|Voix|\n",
      "+----+-------------------+--------------------------+------------------+--------------+--------+-----------+-------+------+----+--------+---------+--------+----+\n",
      "|   1|                 01|                        01|               016|          0001|     325|         58|    267|     3|   1|     263|  ARTHAUD|Nathalie|   1|\n",
      "|   1|                 01|                        01|               016|          0001|     325|         58|    267|     3|   1|     263|  HIDALGO|    Anne|  10|\n",
      "|   1|                 01|                        01|               016|          0001|     325|         58|    267|     3|   1|     263|    JADOT| Yannick|  10|\n",
      "|   1|                 01|                        01|               016|          0001|     325|         58|    267|     3|   1|     263| LASSALLE|    Jean|  10|\n",
      "|   1|                 01|                        01|               016|          0001|     325|         58|    267|     3|   1|     263|   LE PEN|  Marine|  89|\n",
      "|   1|                 01|                        01|               016|          0001|     325|         58|    267|     3|   1|     263|   MACRON|Emmanuel|  61|\n",
      "|   1|                 01|                        01|               016|          0001|     325|         58|    267|     3|   1|     263|MÉLENCHON|Jean-Luc|  34|\n",
      "|   1|                 01|                        01|               016|          0001|     325|         58|    267|     3|   1|     263|   POUTOU|Philippe|   0|\n",
      "|   1|                 01|                        01|               016|          0001|     325|         58|    267|     3|   1|     263| PÉCRESSE| Valérie|  17|\n",
      "|   1|                 01|                        01|               016|          0001|     325|         58|    267|     3|   1|     263|  ROUSSEL|  Fabien|   6|\n",
      "|   1|                 01|                        01|               016|          0001|     325|         58|    267|     3|   1|     263|  ZEMMOUR|    Éric|  12|\n",
      "|   1|                 01|                        01|               024|          0001|    1207|        214|    993|    17|   4|     972|  ARTHAUD|Nathalie|   3|\n",
      "|   1|                 01|                        01|               024|          0001|    1207|        214|    993|    17|   4|     972|  HIDALGO|    Anne|  14|\n",
      "|   1|                 01|                        01|               024|          0001|    1207|        214|    993|    17|   4|     972|    JADOT| Yannick|  42|\n",
      "|   1|                 01|                        01|               024|          0001|    1207|        214|    993|    17|   4|     972| LASSALLE|    Jean|  25|\n",
      "|   1|                 01|                        01|               024|          0001|    1207|        214|    993|    17|   4|     972|   LE PEN|  Marine| 290|\n",
      "|   1|                 01|                        01|               024|          0001|    1207|        214|    993|    17|   4|     972|   MACRON|Emmanuel| 270|\n",
      "|   1|                 01|                        01|               024|          0001|    1207|        214|    993|    17|   4|     972|MÉLENCHON|Jean-Luc| 164|\n",
      "|   1|                 01|                        01|               024|          0001|    1207|        214|    993|    17|   4|     972|   POUTOU|Philippe|   5|\n",
      "|   1|                 01|                        01|               024|          0001|    1207|        214|    993|    17|   4|     972| PÉCRESSE| Valérie|  57|\n",
      "+----+-------------------+--------------------------+------------------+--------------+--------+-----------+-------+------+----+--------+---------+--------+----+\n",
      "only showing top 20 rows\n",
      "\n"
     ]
    },
    {
     "name": "stderr",
     "output_type": "stream",
     "text": [
      "                                                                                \r"
     ]
    }
   ],
   "source": [
    "df.write.option(\"header\",True).csv(\"/home/gildas/Bureau/ECE/data/datatour1\")"
   ]
  },
  {
   "cell_type": "code",
   "execution_count": null,
   "metadata": {},
   "outputs": [],
   "source": []
  }
 ],
 "metadata": {
  "kernelspec": {
   "display_name": "Python 3 (ipykernel)",
   "language": "python",
   "name": "python3"
  },
  "language_info": {
   "codemirror_mode": {
    "name": "ipython",
    "version": 3
   },
   "file_extension": ".py",
   "mimetype": "text/x-python",
   "name": "python",
   "nbconvert_exporter": "python",
   "pygments_lexer": "ipython3",
   "version": "3.10.6"
  },
  "orig_nbformat": 4,
  "vscode": {
   "interpreter": {
    "hash": "916dbcbb3f70747c44a77c7bcd40155683ae19c65e1c03b4aa3499c5328201f1"
   }
  }
 },
 "nbformat": 4,
 "nbformat_minor": 2
}
